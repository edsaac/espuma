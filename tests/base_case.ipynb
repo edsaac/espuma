{
 "cells": [
  {
   "cell_type": "code",
   "execution_count": 1,
   "metadata": {},
   "outputs": [],
   "source": [
    "from espuma.base import Case_Directory"
   ]
  },
  {
   "cell_type": "code",
   "execution_count": 2,
   "metadata": {},
   "outputs": [],
   "source": [
    "case = Case_Directory(\"/home/edsaa/cavity\")"
   ]
  },
  {
   "cell_type": "code",
   "execution_count": 4,
   "metadata": {},
   "outputs": [
    {
     "data": {
      "text/plain": [
       "{'FoamFile': {'version': '2',\n",
       "  'format': 'ascii',\n",
       "  'class': 'dictionary',\n",
       "  'location': '\"system\"',\n",
       "  'object': 'controlDict'},\n",
       " 'application': 'icoFoam',\n",
       " 'startFrom': 'startTime',\n",
       " 'startTime': '0',\n",
       " 'stopAt': 'endTime',\n",
       " 'endTime': '0.5',\n",
       " 'deltaT': '0.005',\n",
       " 'writeControl': 'timeStep',\n",
       " 'writeInterval': '20',\n",
       " 'purgeWrite': '0',\n",
       " 'writeFormat': 'ascii',\n",
       " 'writePrecision': '6',\n",
       " 'writeCompression': 'off',\n",
       " 'timeFormat': 'general',\n",
       " 'timePrecision': '6',\n",
       " 'runTimeModifiable': 'true'}"
      ]
     },
     "execution_count": 4,
     "metadata": {},
     "output_type": "execute_result"
    }
   ],
   "source": [
    "case.system.controlDict.items()"
   ]
  },
  {
   "cell_type": "code",
   "execution_count": 7,
   "metadata": {},
   "outputs": [
    {
     "data": {
      "text/plain": [
       "{'solver': 'PCG',\n",
       " 'preconditioner': 'DIC',\n",
       " 'tolerance': '1e-06',\n",
       " 'relTol': '0.05'}"
      ]
     },
     "execution_count": 7,
     "metadata": {},
     "output_type": "execute_result"
    }
   ],
   "source": [
    "case.system.fvSolution[\"solvers\"][\"p\"]"
   ]
  },
  {
   "cell_type": "code",
   "execution_count": 8,
   "metadata": {},
   "outputs": [
    {
     "data": {
      "text/plain": [
       "{'solver': 'PCG', 'preconditioner': 'DIC', 'tolerance': '1e-06', 'relTol': '0'}"
      ]
     },
     "execution_count": 8,
     "metadata": {},
     "output_type": "execute_result"
    }
   ],
   "source": [
    "case.system.fvSolution[\"solvers\"][\"pFinal\"]\n"
   ]
  },
  {
   "cell_type": "code",
   "execution_count": null,
   "metadata": {},
   "outputs": [],
   "source": []
  }
 ],
 "metadata": {
  "kernelspec": {
   "display_name": "wenv",
   "language": "python",
   "name": "python3"
  },
  "language_info": {
   "codemirror_mode": {
    "name": "ipython",
    "version": 3
   },
   "file_extension": ".py",
   "mimetype": "text/x-python",
   "name": "python",
   "nbconvert_exporter": "python",
   "pygments_lexer": "ipython3",
   "version": "3.11.7"
  }
 },
 "nbformat": 4,
 "nbformat_minor": 2
}
