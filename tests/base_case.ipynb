{
 "cells": [
  {
   "cell_type": "code",
   "execution_count": 1,
   "metadata": {},
   "outputs": [],
   "source": [
    "from espuma import Case_Directory"
   ]
  },
  {
   "cell_type": "code",
   "execution_count": 2,
   "metadata": {},
   "outputs": [],
   "source": [
    "of_case = Case_Directory(\"/home/edsaa/foam/cavity_test\")"
   ]
  },
  {
   "cell_type": "code",
   "execution_count": 3,
   "metadata": {},
   "outputs": [
    {
     "data": {
      "text/plain": [
       "Case_Directory(/home/edsaa/foam/cavity_test)"
      ]
     },
     "execution_count": 3,
     "metadata": {},
     "output_type": "execute_result"
    }
   ],
   "source": [
    "of_case"
   ]
  },
  {
   "cell_type": "code",
   "execution_count": 4,
   "metadata": {},
   "outputs": [
    {
     "data": {
      "text/plain": [
       "(Zero_Directory(/home/edsaa/foam/cavity_test/0),\n",
       " Constant_Directory(/home/edsaa/foam/cavity_test/constant),\n",
       " System_Directory(/home/edsaa/foam/cavity_test/system))"
      ]
     },
     "execution_count": 4,
     "metadata": {},
     "output_type": "execute_result"
    }
   ],
   "source": [
    "of_case.zero, of_case.constant, of_case.system"
   ]
  },
  {
   "cell_type": "code",
   "execution_count": 5,
   "metadata": {},
   "outputs": [
    {
     "data": {
      "text/plain": [
       "(Field_File(/home/edsaa/foam/cavity_test/0/U),\n",
       " Field_File(/home/edsaa/foam/cavity_test/0/p))"
      ]
     },
     "execution_count": 5,
     "metadata": {},
     "output_type": "execute_result"
    }
   ],
   "source": [
    "of_case.zero.U, of_case.zero.p"
   ]
  },
  {
   "cell_type": "code",
   "execution_count": 6,
   "metadata": {},
   "outputs": [
    {
     "data": {
      "text/plain": [
       "Dict_File(/home/edsaa/foam/cavity_test/constant/transportProperties)"
      ]
     },
     "execution_count": 6,
     "metadata": {},
     "output_type": "execute_result"
    }
   ],
   "source": [
    "of_case.constant.transportProperties"
   ]
  },
  {
   "cell_type": "code",
   "execution_count": 7,
   "metadata": {},
   "outputs": [
    {
     "data": {
      "text/plain": [
       "(Dict_File(/home/edsaa/foam/cavity_test/system/controlDict),\n",
       " Dict_File(/home/edsaa/foam/cavity_test/system/fvSolution),\n",
       " Dict_File(/home/edsaa/foam/cavity_test/system/fvSchemes),\n",
       " Dict_File(/home/edsaa/foam/cavity_test/system/blockMeshDict))"
      ]
     },
     "execution_count": 7,
     "metadata": {},
     "output_type": "execute_result"
    }
   ],
   "source": [
    "of_case.system.controlDict, of_case.system.fvSolution, of_case.system.fvSchemes, of_case.system.blockMeshDict\n"
   ]
  },
  {
   "cell_type": "code",
   "execution_count": 8,
   "metadata": {},
   "outputs": [
    {
     "data": {
      "text/plain": [
       "(Dict_File(/home/edsaa/foam/cavity_test/system/controlDict),\n",
       " espuma.base.Dict_File)"
      ]
     },
     "execution_count": 8,
     "metadata": {},
     "output_type": "execute_result"
    }
   ],
   "source": [
    "of_case.system.controlDict, type(of_case.system.controlDict)"
   ]
  },
  {
   "cell_type": "code",
   "execution_count": 9,
   "metadata": {},
   "outputs": [
    {
     "data": {
      "text/plain": [
       "{'FoamFile': {'version': '2', 'format': 'ascii', 'class': 'dictionary', 'location': '\"system\"', 'object': 'controlDict'},\n",
       " 'application': 'icoFoam',\n",
       " 'startFrom': 'startTime',\n",
       " 'startTime': '0',\n",
       " 'stopAt': 'endTime',\n",
       " 'endTime': '0.5',\n",
       " 'deltaT': '0.005',\n",
       " 'writeControl': 'timeStep',\n",
       " 'writeInterval': '20',\n",
       " 'purgeWrite': '0',\n",
       " 'writeFormat': 'ascii',\n",
       " 'writePrecision': '6',\n",
       " 'writeCompression': 'off',\n",
       " 'timeFormat': 'general',\n",
       " 'timePrecision': '6',\n",
       " 'runTimeModifiable': 'true'}"
      ]
     },
     "execution_count": 9,
     "metadata": {},
     "output_type": "execute_result"
    }
   ],
   "source": [
    "of_case.system.controlDict.items()"
   ]
  },
  {
   "cell_type": "code",
   "execution_count": 10,
   "metadata": {},
   "outputs": [
    {
     "data": {
      "text/plain": [
       "{'solver': 'PCG', 'preconditioner': 'DIC', 'tolerance': '1e-06', 'relTol': '0.05'}"
      ]
     },
     "execution_count": 10,
     "metadata": {},
     "output_type": "execute_result"
    }
   ],
   "source": [
    "of_case.system.fvSolution[\"solvers\"][\"p\"]"
   ]
  },
  {
   "cell_type": "code",
   "execution_count": 11,
   "metadata": {},
   "outputs": [],
   "source": [
    "p1, pp = \"solvers.p.solver\".split(\".\", maxsplit=1)"
   ]
  },
  {
   "cell_type": "code",
   "execution_count": 12,
   "metadata": {},
   "outputs": [
    {
     "data": {
      "text/plain": [
       "{'solver': 'PCG', 'preconditioner': 'DIC', 'tolerance': '1e-06', 'relTol': '0.05'}"
      ]
     },
     "execution_count": 12,
     "metadata": {},
     "output_type": "execute_result"
    }
   ],
   "source": [
    "of_case.system.fvSolution[\"solvers.p\"]"
   ]
  },
  {
   "cell_type": "code",
   "execution_count": 13,
   "metadata": {},
   "outputs": [],
   "source": [
    "# of_case.system.fvSolution[\"i_do_not_exist\"]"
   ]
  },
  {
   "cell_type": "code",
   "execution_count": 14,
   "metadata": {},
   "outputs": [
    {
     "data": {
      "text/plain": [
       "'PCG'"
      ]
     },
     "execution_count": 14,
     "metadata": {},
     "output_type": "execute_result"
    }
   ],
   "source": [
    "of_case.system.fvSolution[\"solvers.p.solver\"]"
   ]
  },
  {
   "cell_type": "code",
   "execution_count": 15,
   "metadata": {},
   "outputs": [
    {
     "data": {
      "text/plain": [
       "'PCG'"
      ]
     },
     "execution_count": 15,
     "metadata": {},
     "output_type": "execute_result"
    }
   ],
   "source": [
    "of_case.system.fvSolution[\"solvers\"][\"p\"][\"solver\"]"
   ]
  },
  {
   "cell_type": "code",
   "execution_count": 16,
   "metadata": {},
   "outputs": [],
   "source": [
    "# of_case.system.fvSolution[\"solvers\"][\"p\"][\"solver\"] = \"PCG\""
   ]
  },
  {
   "cell_type": "code",
   "execution_count": 17,
   "metadata": {},
   "outputs": [],
   "source": [
    "of_case.system.fvSolution[\"solvers.p.solver\"] = \"PCG\""
   ]
  },
  {
   "cell_type": "code",
   "execution_count": 18,
   "metadata": {},
   "outputs": [
    {
     "data": {
      "text/plain": [
       "'PCG'"
      ]
     },
     "execution_count": 18,
     "metadata": {},
     "output_type": "execute_result"
    }
   ],
   "source": [
    "of_case.system.fvSolution[\"solvers.p.solver\"]"
   ]
  },
  {
   "cell_type": "code",
   "execution_count": 19,
   "metadata": {},
   "outputs": [],
   "source": [
    "of_case.system.blockMeshDict[\"blocks\"] = '( hex ( 0 1 2 3 4 5 6 7 ) ( 20 20 1 ) simpleGrading ( 1 1 1 ) )'"
   ]
  },
  {
   "cell_type": "code",
   "execution_count": 20,
   "metadata": {},
   "outputs": [],
   "source": [
    "of_case._blockMesh()"
   ]
  },
  {
   "cell_type": "code",
   "execution_count": 23,
   "metadata": {},
   "outputs": [
    {
     "name": "stdout",
     "output_type": "stream",
     "text": [
      "icoFoam finished successfully\n"
     ]
    },
    {
     "data": {
      "text/plain": [
       "True"
      ]
     },
     "execution_count": 23,
     "metadata": {},
     "output_type": "execute_result"
    }
   ],
   "source": [
    "of_case._runCase()"
   ]
  },
  {
   "cell_type": "code",
   "execution_count": null,
   "metadata": {},
   "outputs": [],
   "source": [
    "from collections import UserDict\n",
    "from typing import Any\n",
    "\n",
    "class Mydict(dict):\n",
    "    \n",
    "    def __setitem__(self, key: Any, item: Any):\n",
    "        print(\"using the setitem\")\n",
    "        return super().__setitem__(key, item)\n",
    "    \n",
    "    def __getitem__(self, key: Any) -> Any:\n",
    "        print(\"using the getitem\")\n",
    "        return super().__getitem__(key)\n",
    "\n",
    "class MyUserdict(UserDict):\n",
    "    \n",
    "    def __setitem__(self, key: Any, item: Any):\n",
    "        print(\"using the setitem\")\n",
    "        return super().__setitem__(key, item)\n",
    "    \n",
    "    def __getitem__(self, key: Any) -> Any:\n",
    "        print(\"using the getitem\")\n",
    "        return super().__getitem__(key)\n",
    "\n"
   ]
  },
  {
   "cell_type": "code",
   "execution_count": null,
   "metadata": {},
   "outputs": [],
   "source": [
    "a = Mydict(hello=1, bye=2)\n",
    "a[\"sayonara\"] = 10"
   ]
  },
  {
   "cell_type": "code",
   "execution_count": null,
   "metadata": {},
   "outputs": [],
   "source": [
    "b = MyUserdict(hello=1, bye=44)\n",
    "b[\"sayonara\"] = 10\n"
   ]
  },
  {
   "cell_type": "code",
   "execution_count": null,
   "metadata": {},
   "outputs": [],
   "source": []
  }
 ],
 "metadata": {
  "kernelspec": {
   "display_name": "wenv",
   "language": "python",
   "name": "python3"
  },
  "language_info": {
   "codemirror_mode": {
    "name": "ipython",
    "version": 3
   },
   "file_extension": ".py",
   "mimetype": "text/x-python",
   "name": "python",
   "nbconvert_exporter": "python",
   "pygments_lexer": "ipython3",
   "version": "3.11.7"
  }
 },
 "nbformat": 4,
 "nbformat_minor": 2
}
