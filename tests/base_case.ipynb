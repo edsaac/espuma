{
 "cells": [
  {
   "cell_type": "code",
   "execution_count": 1,
   "metadata": {},
   "outputs": [],
   "source": [
    "from espuma.base import Case_Directory"
   ]
  },
  {
   "cell_type": "code",
   "execution_count": 2,
   "metadata": {},
   "outputs": [],
   "source": [
    "of_case = Case_Directory(\"/home/edsaa/foam/cavity\")"
   ]
  },
  {
   "cell_type": "code",
   "execution_count": 3,
   "metadata": {},
   "outputs": [
    {
     "data": {
      "text/plain": [
       "Case_Directory(/home/edsaa/foam/cavity)"
      ]
     },
     "execution_count": 3,
     "metadata": {},
     "output_type": "execute_result"
    }
   ],
   "source": [
    "of_case"
   ]
  },
  {
   "cell_type": "code",
   "execution_count": 4,
   "metadata": {},
   "outputs": [
    {
     "data": {
      "text/plain": [
       "(Zero_Directory(/home/edsaa/foam/cavity/0),\n",
       " Constant_Directory(/home/edsaa/foam/cavity/constant),\n",
       " System_Directory(/home/edsaa/foam/cavity/system))"
      ]
     },
     "execution_count": 4,
     "metadata": {},
     "output_type": "execute_result"
    }
   ],
   "source": [
    "of_case.zero, of_case.constant, of_case.system"
   ]
  },
  {
   "cell_type": "code",
   "execution_count": 5,
   "metadata": {},
   "outputs": [
    {
     "data": {
      "text/plain": [
       "(Field_File(/home/edsaa/foam/cavity/0/U),\n",
       " Field_File(/home/edsaa/foam/cavity/0/p))"
      ]
     },
     "execution_count": 5,
     "metadata": {},
     "output_type": "execute_result"
    }
   ],
   "source": [
    "of_case.zero.U, of_case.zero.p"
   ]
  },
  {
   "cell_type": "code",
   "execution_count": 6,
   "metadata": {},
   "outputs": [
    {
     "data": {
      "text/plain": [
       "Dict_File(/home/edsaa/foam/cavity/constant/transportProperties)"
      ]
     },
     "execution_count": 6,
     "metadata": {},
     "output_type": "execute_result"
    }
   ],
   "source": [
    "of_case.constant.transportProperties"
   ]
  },
  {
   "cell_type": "code",
   "execution_count": 7,
   "metadata": {},
   "outputs": [
    {
     "data": {
      "text/plain": [
       "(Dict_File(/home/edsaa/foam/cavity/system/controlDict),\n",
       " Dict_File(/home/edsaa/foam/cavity/system/fvSolution),\n",
       " Dict_File(/home/edsaa/foam/cavity/system/fvSchemes),\n",
       " Dict_File(/home/edsaa/foam/cavity/system/blockMeshDict))"
      ]
     },
     "execution_count": 7,
     "metadata": {},
     "output_type": "execute_result"
    }
   ],
   "source": [
    "of_case.system.controlDict, of_case.system.fvSolution, of_case.system.fvSchemes, of_case.system.blockMeshDict\n"
   ]
  },
  {
   "cell_type": "code",
   "execution_count": 8,
   "metadata": {},
   "outputs": [
    {
     "data": {
      "text/plain": [
       "(Dict_File(/home/edsaa/foam/cavity/system/controlDict), espuma.base.Dict_File)"
      ]
     },
     "execution_count": 8,
     "metadata": {},
     "output_type": "execute_result"
    }
   ],
   "source": [
    "of_case.system.controlDict, type(of_case.system.controlDict)"
   ]
  },
  {
   "cell_type": "code",
   "execution_count": 9,
   "metadata": {},
   "outputs": [
    {
     "name": "stdout",
     "output_type": "stream",
     "text": [
      "Calling the Dict_File getittem for FoamFile\n",
      "Calling the Dict_File getittem for application\n",
      "Calling the Dict_File getittem for startFrom\n",
      "Calling the Dict_File getittem for startTime\n",
      "Calling the Dict_File getittem for stopAt\n",
      "Calling the Dict_File getittem for endTime\n",
      "Calling the Dict_File getittem for deltaT\n",
      "Calling the Dict_File getittem for writeControl\n",
      "Calling the Dict_File getittem for writeInterval\n",
      "Calling the Dict_File getittem for purgeWrite\n",
      "Calling the Dict_File getittem for writeFormat\n",
      "Calling the Dict_File getittem for writePrecision\n",
      "Calling the Dict_File getittem for writeCompression\n",
      "Calling the Dict_File getittem for timeFormat\n",
      "Calling the Dict_File getittem for timePrecision\n",
      "Calling the Dict_File getittem for runTimeModifiable\n"
     ]
    },
    {
     "data": {
      "text/plain": [
       "{'FoamFile': {'version': '2', 'format': 'ascii', 'class': 'dictionary', 'location': '\"system\"', 'object': 'controlDict'},\n",
       " 'application': 'icoFoam',\n",
       " 'startFrom': 'startTime',\n",
       " 'startTime': '0',\n",
       " 'stopAt': 'endTime',\n",
       " 'endTime': '0.5',\n",
       " 'deltaT': '0.005',\n",
       " 'writeControl': 'timeStep',\n",
       " 'writeInterval': '20',\n",
       " 'purgeWrite': '0',\n",
       " 'writeFormat': 'ascii',\n",
       " 'writePrecision': '6',\n",
       " 'writeCompression': 'off',\n",
       " 'timeFormat': 'general',\n",
       " 'timePrecision': '6',\n",
       " 'runTimeModifiable': 'true'}"
      ]
     },
     "execution_count": 9,
     "metadata": {},
     "output_type": "execute_result"
    }
   ],
   "source": [
    "of_case.system.controlDict.items()"
   ]
  },
  {
   "cell_type": "code",
   "execution_count": 10,
   "metadata": {},
   "outputs": [
    {
     "name": "stdout",
     "output_type": "stream",
     "text": [
      "Calling the Dict_File getittem for solvers\n",
      "Calling the OpenFoam_Dict getittem for p\n"
     ]
    },
    {
     "data": {
      "text/plain": [
       "{'solver': 'PCG', 'preconditioner': 'DIC', 'tolerance': '1e-06', 'relTol': '0.05'}"
      ]
     },
     "execution_count": 10,
     "metadata": {},
     "output_type": "execute_result"
    }
   ],
   "source": [
    "of_case.system.fvSolution[\"solvers\"][\"p\"]"
   ]
  },
  {
   "cell_type": "code",
   "execution_count": 11,
   "metadata": {},
   "outputs": [
    {
     "name": "stdout",
     "output_type": "stream",
     "text": [
      "Calling the Dict_File getittem for solvers.p\n"
     ]
    },
    {
     "data": {
      "text/plain": [
       "{'solver': 'PCG', 'preconditioner': 'DIC', 'tolerance': '1e-06', 'relTol': '0.05'}"
      ]
     },
     "execution_count": 11,
     "metadata": {},
     "output_type": "execute_result"
    }
   ],
   "source": [
    "of_case.system.fvSolution[\"solvers.p\"]"
   ]
  },
  {
   "cell_type": "code",
   "execution_count": 12,
   "metadata": {},
   "outputs": [
    {
     "name": "stdout",
     "output_type": "stream",
     "text": [
      "Calling the Dict_File getittem for i_do_not_exist\n"
     ]
    },
    {
     "ename": "ValueError",
     "evalue": "foamDictionary /home/edsaa/foam/cavity/system/fvSolution -entry i_do_not_exist -value\n\n--> FOAM FATAL IO ERROR: \nCannot find entry i_do_not_exist\n\nfile:  from line 10 to line 82.\n\n    From function int main(int, char**)\n    in file foamDictionary.C at line 558.\n\nFOAM exiting",
     "output_type": "error",
     "traceback": [
      "\u001b[0;31m---------------------------------------------------------------------------\u001b[0m",
      "\u001b[0;31mValueError\u001b[0m                                Traceback (most recent call last)",
      "Cell \u001b[0;32mIn[12], line 1\u001b[0m\n\u001b[0;32m----> 1\u001b[0m \u001b[43mof_case\u001b[49m\u001b[38;5;241;43m.\u001b[39;49m\u001b[43msystem\u001b[49m\u001b[38;5;241;43m.\u001b[39;49m\u001b[43mfvSolution\u001b[49m\u001b[43m[\u001b[49m\u001b[38;5;124;43m\"\u001b[39;49m\u001b[38;5;124;43mi_do_not_exist\u001b[39;49m\u001b[38;5;124;43m\"\u001b[39;49m\u001b[43m]\u001b[49m\n",
      "File \u001b[0;32m~/Repositories/foamy/src/espuma/base.py:78\u001b[0m, in \u001b[0;36mOpenFoam_File.__getitem__\u001b[0;34m(self, key)\u001b[0m\n\u001b[1;32m     76\u001b[0m \u001b[38;5;28;01mdef\u001b[39;00m \u001b[38;5;21m__getitem__\u001b[39m(\u001b[38;5;28mself\u001b[39m, key: Any) \u001b[38;5;241m-\u001b[39m\u001b[38;5;241m>\u001b[39m Any:\n\u001b[1;32m     77\u001b[0m         \u001b[38;5;28mprint\u001b[39m(\u001b[38;5;124mf\u001b[39m\u001b[38;5;124m\"\u001b[39m\u001b[38;5;124mCalling the \u001b[39m\u001b[38;5;132;01m{\u001b[39;00m\u001b[38;5;28mtype\u001b[39m(\u001b[38;5;28mself\u001b[39m)\u001b[38;5;241m.\u001b[39m\u001b[38;5;18m__name__\u001b[39m\u001b[38;5;132;01m}\u001b[39;00m\u001b[38;5;124m getittem for \u001b[39m\u001b[38;5;132;01m{\u001b[39;00mkey\u001b[38;5;132;01m}\u001b[39;00m\u001b[38;5;124m\"\u001b[39m)\n\u001b[0;32m---> 78\u001b[0m         \u001b[38;5;28;01mreturn\u001b[39;00m \u001b[38;5;28;43mself\u001b[39;49m\u001b[38;5;241;43m.\u001b[39;49m\u001b[43mfoamDictionary_generate_dict\u001b[49m\u001b[43m(\u001b[49m\u001b[43mkey\u001b[49m\u001b[43m)\u001b[49m\n",
      "File \u001b[0;32m~/Repositories/foamy/src/espuma/base.py:104\u001b[0m, in \u001b[0;36mOpenFoam_File.foamDictionary_generate_dict\u001b[0;34m(self, entry)\u001b[0m\n\u001b[1;32m     98\u001b[0m     foamEntry \u001b[38;5;241m=\u001b[39m OpenFoam_Dict(\n\u001b[1;32m     99\u001b[0m             (k,\u001b[38;5;28mself\u001b[39m\u001b[38;5;241m.\u001b[39mfoamDictionary_generate_dict(\u001b[38;5;124mf\u001b[39m\u001b[38;5;124m\"\u001b[39m\u001b[38;5;132;01m{\u001b[39;00mentry\u001b[38;5;132;01m}\u001b[39;00m\u001b[38;5;124m.\u001b[39m\u001b[38;5;132;01m{\u001b[39;00mk\u001b[38;5;132;01m}\u001b[39;00m\u001b[38;5;124m\"\u001b[39m))\n\u001b[1;32m    100\u001b[0m             \u001b[38;5;28;01mfor\u001b[39;00m k \u001b[38;5;129;01min\u001b[39;00m output\u001b[38;5;241m.\u001b[39mstdout\u001b[38;5;241m.\u001b[39mstrip()\u001b[38;5;241m.\u001b[39msplitlines()\n\u001b[1;32m    101\u001b[0m     )\n\u001b[1;32m    103\u001b[0m \u001b[38;5;28;01melse\u001b[39;00m:\n\u001b[0;32m--> 104\u001b[0m     foamEntry \u001b[38;5;241m=\u001b[39m \u001b[38;5;28;43mself\u001b[39;49m\u001b[38;5;241;43m.\u001b[39;49m\u001b[43m_foamDictionary_get_value\u001b[49m\u001b[43m(\u001b[49m\u001b[43mentry\u001b[49m\u001b[43m)\u001b[49m\n\u001b[1;32m    106\u001b[0m \u001b[38;5;28;01mreturn\u001b[39;00m foamEntry\n",
      "File \u001b[0;32m~/Repositories/foamy/src/espuma/base.py:87\u001b[0m, in \u001b[0;36mOpenFoam_File._foamDictionary_get_value\u001b[0;34m(self, entry)\u001b[0m\n\u001b[1;32m     85\u001b[0m     \u001b[38;5;28;01mreturn\u001b[39;00m value\u001b[38;5;241m.\u001b[39mstdout\u001b[38;5;241m.\u001b[39mstrip()\n\u001b[1;32m     86\u001b[0m \u001b[38;5;28;01melse\u001b[39;00m:\n\u001b[0;32m---> 87\u001b[0m     \u001b[38;5;28;01mraise\u001b[39;00m \u001b[38;5;167;01mValueError\u001b[39;00m(\u001b[38;5;124m\"\u001b[39m\u001b[38;5;124m \u001b[39m\u001b[38;5;124m\"\u001b[39m\u001b[38;5;241m.\u001b[39mjoin(command) \u001b[38;5;241m+\u001b[39m \u001b[38;5;124m\"\u001b[39m\u001b[38;5;130;01m\\n\u001b[39;00m\u001b[38;5;130;01m\\n\u001b[39;00m\u001b[38;5;124m\"\u001b[39m \u001b[38;5;241m+\u001b[39m value\u001b[38;5;241m.\u001b[39mstderr\u001b[38;5;241m.\u001b[39mstrip())\n",
      "\u001b[0;31mValueError\u001b[0m: foamDictionary /home/edsaa/foam/cavity/system/fvSolution -entry i_do_not_exist -value\n\n--> FOAM FATAL IO ERROR: \nCannot find entry i_do_not_exist\n\nfile:  from line 10 to line 82.\n\n    From function int main(int, char**)\n    in file foamDictionary.C at line 558.\n\nFOAM exiting"
     ]
    }
   ],
   "source": [
    "of_case.system.fvSolution[\"i_do_not_exist\"]"
   ]
  },
  {
   "cell_type": "code",
   "execution_count": 13,
   "metadata": {},
   "outputs": [
    {
     "name": "stdout",
     "output_type": "stream",
     "text": [
      "Calling the Dict_File getittem for solvers.p.solver\n"
     ]
    },
    {
     "data": {
      "text/plain": [
       "'PCG'"
      ]
     },
     "execution_count": 13,
     "metadata": {},
     "output_type": "execute_result"
    }
   ],
   "source": [
    "of_case.system.fvSolution[\"solvers.p.solver\"]"
   ]
  },
  {
   "cell_type": "code",
   "execution_count": 14,
   "metadata": {},
   "outputs": [
    {
     "name": "stdout",
     "output_type": "stream",
     "text": [
      "Calling the Dict_File getittem for solvers\n",
      "Calling the OpenFoam_Dict getittem for p\n",
      "Calling the OpenFoam_Dict getittem for solver\n"
     ]
    },
    {
     "data": {
      "text/plain": [
       "'PCG'"
      ]
     },
     "execution_count": 14,
     "metadata": {},
     "output_type": "execute_result"
    }
   ],
   "source": [
    "of_case.system.fvSolution[\"solvers\"][\"p\"][\"solver\"]"
   ]
  },
  {
   "cell_type": "code",
   "execution_count": 15,
   "metadata": {},
   "outputs": [
    {
     "name": "stdout",
     "output_type": "stream",
     "text": [
      "Calling the Dict_File getittem for solvers\n",
      "Calling the OpenFoam_Dict getittem for p\n"
     ]
    },
    {
     "ename": "NotImplementedError",
     "evalue": "OpenFoam_Dict does not accept setting items.Use OpenFoam_File setter instead",
     "output_type": "error",
     "traceback": [
      "\u001b[0;31m---------------------------------------------------------------------------\u001b[0m",
      "\u001b[0;31mNotImplementedError\u001b[0m                       Traceback (most recent call last)",
      "Cell \u001b[0;32mIn[15], line 1\u001b[0m\n\u001b[0;32m----> 1\u001b[0m \u001b[43mof_case\u001b[49m\u001b[38;5;241;43m.\u001b[39;49m\u001b[43msystem\u001b[49m\u001b[38;5;241;43m.\u001b[39;49m\u001b[43mfvSolution\u001b[49m\u001b[43m[\u001b[49m\u001b[38;5;124;43m\"\u001b[39;49m\u001b[38;5;124;43msolvers\u001b[39;49m\u001b[38;5;124;43m\"\u001b[39;49m\u001b[43m]\u001b[49m\u001b[43m[\u001b[49m\u001b[38;5;124;43m\"\u001b[39;49m\u001b[38;5;124;43mp\u001b[39;49m\u001b[38;5;124;43m\"\u001b[39;49m\u001b[43m]\u001b[49m\u001b[43m[\u001b[49m\u001b[38;5;124;43m\"\u001b[39;49m\u001b[38;5;124;43msolver\u001b[39;49m\u001b[38;5;124;43m\"\u001b[39;49m\u001b[43m]\u001b[49m \u001b[38;5;241m=\u001b[39m \u001b[38;5;124m\"\u001b[39m\u001b[38;5;124mHEHE\u001b[39m\u001b[38;5;124m\"\u001b[39m\n",
      "File \u001b[0;32m~/Repositories/foamy/src/espuma/base.py:61\u001b[0m, in \u001b[0;36mOpenFoam_Dict.__setitem__\u001b[0;34m(self, key, value)\u001b[0m\n\u001b[1;32m     60\u001b[0m \u001b[38;5;28;01mdef\u001b[39;00m \u001b[38;5;21m__setitem__\u001b[39m(\u001b[38;5;28mself\u001b[39m, key: Any, value: Any) \u001b[38;5;241m-\u001b[39m\u001b[38;5;241m>\u001b[39m \u001b[38;5;28;01mNone\u001b[39;00m:\n\u001b[0;32m---> 61\u001b[0m     \u001b[38;5;28;01mraise\u001b[39;00m \u001b[38;5;167;01mNotImplementedError\u001b[39;00m(\n\u001b[1;32m     62\u001b[0m         \u001b[38;5;124mf\u001b[39m\u001b[38;5;124m\"\u001b[39m\u001b[38;5;132;01m{\u001b[39;00m\u001b[38;5;28mtype\u001b[39m(\u001b[38;5;28mself\u001b[39m)\u001b[38;5;241m.\u001b[39m\u001b[38;5;18m__name__\u001b[39m\u001b[38;5;132;01m}\u001b[39;00m\u001b[38;5;124m does not accept setting items.\u001b[39m\u001b[38;5;124m\"\u001b[39m\n\u001b[1;32m     63\u001b[0m         \u001b[38;5;124m\"\u001b[39m\u001b[38;5;124mUse OpenFoam_File setter instead\u001b[39m\u001b[38;5;124m\"\u001b[39m\n\u001b[1;32m     64\u001b[0m     )\n",
      "\u001b[0;31mNotImplementedError\u001b[0m: OpenFoam_Dict does not accept setting items.Use OpenFoam_File setter instead"
     ]
    }
   ],
   "source": [
    "of_case.system.fvSolution[\"solvers\"][\"p\"][\"solver\"] = \"HEHE\""
   ]
  },
  {
   "cell_type": "code",
   "execution_count": 16,
   "metadata": {},
   "outputs": [],
   "source": [
    "of_case.system.fvSolution[\"solvers.p.solver\"] = \"HEHE\""
   ]
  },
  {
   "cell_type": "code",
   "execution_count": 17,
   "metadata": {},
   "outputs": [
    {
     "name": "stdout",
     "output_type": "stream",
     "text": [
      "Calling the Dict_File getittem for solvers.p.solver\n"
     ]
    },
    {
     "data": {
      "text/plain": [
       "'HEHE'"
      ]
     },
     "execution_count": 17,
     "metadata": {},
     "output_type": "execute_result"
    }
   ],
   "source": [
    "of_case.system.fvSolution[\"solvers.p.solver\"]"
   ]
  },
  {
   "cell_type": "code",
   "execution_count": null,
   "metadata": {},
   "outputs": [],
   "source": [
    "from collections import UserDict\n",
    "from typing import Any\n",
    "\n",
    "class Mydict(dict):\n",
    "    \n",
    "    def __setitem__(self, key: Any, item: Any):\n",
    "        print(\"using the setitem\")\n",
    "        return super().__setitem__(key, item)\n",
    "    \n",
    "    def __getitem__(self, key: Any) -> Any:\n",
    "        print(\"using the getitem\")\n",
    "        return super().__getitem__(key)\n",
    "\n",
    "class MyUserdict(UserDict):\n",
    "    \n",
    "    def __setitem__(self, key: Any, item: Any):\n",
    "        print(\"using the setitem\")\n",
    "        return super().__setitem__(key, item)\n",
    "    \n",
    "    def __getitem__(self, key: Any) -> Any:\n",
    "        print(\"using the getitem\")\n",
    "        return super().__getitem__(key)\n",
    "\n"
   ]
  },
  {
   "cell_type": "code",
   "execution_count": null,
   "metadata": {},
   "outputs": [],
   "source": [
    "a = Mydict(hello=1, bye=2)\n",
    "a[\"sayonara\"] = 10"
   ]
  },
  {
   "cell_type": "code",
   "execution_count": null,
   "metadata": {},
   "outputs": [],
   "source": [
    "b = MyUserdict(hello=1, bye=44)\n",
    "b[\"sayonara\"] = 10\n"
   ]
  },
  {
   "cell_type": "code",
   "execution_count": null,
   "metadata": {},
   "outputs": [],
   "source": []
  }
 ],
 "metadata": {
  "kernelspec": {
   "display_name": "wenv",
   "language": "python",
   "name": "python3"
  },
  "language_info": {
   "codemirror_mode": {
    "name": "ipython",
    "version": 3
   },
   "file_extension": ".py",
   "mimetype": "text/x-python",
   "name": "python",
   "nbconvert_exporter": "python",
   "pygments_lexer": "ipython3",
   "version": "3.11.7"
  }
 },
 "nbformat": 4,
 "nbformat_minor": 2
}
