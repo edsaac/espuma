{
 "cells": [
  {
   "cell_type": "code",
   "execution_count": 1,
   "metadata": {},
   "outputs": [],
   "source": [
    "from espuma import Case_Directory\n",
    "import pyvista as pv\n",
    "import os\n",
    "\n",
    "FOAM_TUTORIALS = os.environ[\"FOAM_TUTORIALS\"]"
   ]
  },
  {
   "cell_type": "code",
   "execution_count": 2,
   "metadata": {},
   "outputs": [
    {
     "name": "stdout",
     "output_type": "stream",
     "text": [
      "foamCloneCase /opt/openfoam7/tutorials/incompressible/icoFoam/cavity/cavity example_my_cavity finished successfully!\n"
     ]
    }
   ],
   "source": [
    "of_template = Case_Directory(f\"{FOAM_TUTORIALS}/incompressible/icoFoam/cavity/cavity\")\n",
    "of_case = Case_Directory.clone_from_template(of_template, \"example_my_cavity\", overwrite=True)"
   ]
  },
  {
   "cell_type": "code",
   "execution_count": 3,
   "metadata": {},
   "outputs": [
    {
     "data": {
      "text/html": [
       "<details open>\n",
       "<summary style='font-size: 1.0rem; border-bottom: none; cursor: pointer;'><em>example_my_cavity</em></summary>\n",
       "<ul style='list-style: none;'>\n",
       "<li><details open>\n",
       "<summary style='font-size: 1.0rem; border-bottom: 1px solid purple; cursor: pointer;'><b>0</b></summary>\n",
       "<p style='font-size: 0.6rem; text-align: right; padding-bottom: -1em; margin-bottom: 0;'>▚ type: Zero_Directory</p><ul style='padding-top: -1rem; margin-top: -1em; margin-bottom: 0.4rem;'><li>U</li>\n",
       "\n",
       "<li>p</li>\n",
       "\n",
       "</ul>\n",
       "</details>\n",
       "</li>\n",
       "<li><details open>\n",
       "<summary style='font-size: 1.0rem; border-bottom: 1px solid purple; cursor: pointer;'><b>constant</b></summary>\n",
       "<p style='font-size: 0.6rem; text-align: right; padding-bottom: -1em; margin-bottom: 0;'>▚ type: Constant_Directory</p><ul style='padding-top: -1rem; margin-top: -1em; margin-bottom: 0.4rem;'><li>transportProperties</li>\n",
       "\n",
       "</ul>\n",
       "</details>\n",
       "</li>\n",
       "<li><details open>\n",
       "<summary style='font-size: 1.0rem; border-bottom: 1px solid purple; cursor: pointer;'><b>system</b></summary>\n",
       "<p style='font-size: 0.6rem; text-align: right; padding-bottom: -1em; margin-bottom: 0;'>▚ type: System_Directory</p><ul style='padding-top: -1rem; margin-top: -1em; margin-bottom: 0.4rem;'><li>controlDict</li>\n",
       "\n",
       "<li>fvSolution</li>\n",
       "\n",
       "<li>blockMeshDict</li>\n",
       "\n",
       "<li>fvSchemes</li>\n",
       "\n",
       "</ul>\n",
       "</details>\n",
       "</li>\n",
       "</ul>\n",
       "</details>\n"
      ],
      "text/plain": [
       "Case_Directory(/home/edsaa/Repositories/foamy/examples/example_my_cavity)"
      ]
     },
     "execution_count": 3,
     "metadata": {},
     "output_type": "execute_result"
    }
   ],
   "source": [
    "of_case"
   ]
  },
  {
   "cell_type": "code",
   "execution_count": 4,
   "metadata": {},
   "outputs": [
    {
     "data": {
      "text/html": [
       "<details open>\n",
       "<summary style='font-size: 1.0rem; border-bottom: 1px solid purple; cursor: pointer;'><b>0</b></summary>\n",
       "<p style='font-size: 0.6rem; text-align: right; padding-bottom: -1em; margin-bottom: 0;'>▚ type: Zero_Directory</p><ul style='padding-top: -1rem; margin-top: -1em; margin-bottom: 0.4rem;'><li>U</li>\n",
       "\n",
       "<li>p</li>\n",
       "\n",
       "</ul>\n",
       "</details>\n"
      ],
      "text/plain": [
       "Zero_Directory(/home/edsaa/Repositories/foamy/examples/example_my_cavity/0)"
      ]
     },
     "execution_count": 4,
     "metadata": {},
     "output_type": "execute_result"
    }
   ],
   "source": [
    "of_case.zero"
   ]
  },
  {
   "cell_type": "code",
   "execution_count": 5,
   "metadata": {},
   "outputs": [
    {
     "data": {
      "text/html": [
       "<details open>\n",
       "<summary style='font-size: 1.0rem; border-bottom: 1px dashed purple; cursor: pointer;'><span>U</span></summary>\n",
       "<p style='font-size: 0.6rem; text-align: right; padding-bottom: -1em; margin-bottom: 0;'>▚ type: Field_File</p><ul style='padding-top: -1rem; margin-top: -1em; margin-bottom: 0.4rem;'>\n",
       "<li><b>FoamFile</b>: <ul>\n",
       "<li><b>version:</b> 2</li>\n",
       "<li><b>format:</b> ascii</li>\n",
       "<li><b>class:</b> volVectorField</li>\n",
       "<li><b>object:</b> U</li>\n",
       "</ul></li>\n",
       "<li><b>dimensions</b>: '[ 0 1 -1 0 0 0 0 ]'</li>\n",
       "<li><b>internalField</b>: 'uniform ( 0 0 0 )'</li>\n",
       "<li><b>boundaryField</b>: <ul>\n",
       "<li><b>movingWall:</b> <ul>\n",
       "<li><b>type:</b> fixedValue</li>\n",
       "<li><b>value:</b> uniform ( 1 0 0 )</li>\n",
       "</ul></li>\n",
       "<li><b>fixedWalls:</b> <ul>\n",
       "<li><b>type:</b> noSlip</li>\n",
       "</ul></li>\n",
       "<li><b>frontAndBack:</b> <ul>\n",
       "<li><b>type:</b> empty</li>\n",
       "</ul></li>\n",
       "</ul></li>\n",
       "</ul>\n",
       "</details>\n"
      ],
      "text/plain": [
       "Field_File(/home/edsaa/Repositories/foamy/examples/example_my_cavity/0/U)"
      ]
     },
     "execution_count": 5,
     "metadata": {},
     "output_type": "execute_result"
    }
   ],
   "source": [
    "of_case.zero.U"
   ]
  },
  {
   "cell_type": "code",
   "execution_count": 6,
   "metadata": {},
   "outputs": [
    {
     "data": {
      "text/plain": [
       "Dimension(length=1, time=-1)"
      ]
     },
     "execution_count": 6,
     "metadata": {},
     "output_type": "execute_result"
    }
   ],
   "source": [
    "of_case.zero.U.dimensions"
   ]
  },
  {
   "cell_type": "code",
   "execution_count": 7,
   "metadata": {},
   "outputs": [
    {
     "data": {
      "text/html": [
       "<details open>\n",
       "<summary style='font-size: 1.0rem; border-bottom: 1px solid purple; cursor: pointer;'><b>constant</b></summary>\n",
       "<p style='font-size: 0.6rem; text-align: right; padding-bottom: -1em; margin-bottom: 0;'>▚ type: Constant_Directory</p><ul style='padding-top: -1rem; margin-top: -1em; margin-bottom: 0.4rem;'><li>transportProperties</li>\n",
       "\n",
       "</ul>\n",
       "</details>\n"
      ],
      "text/plain": [
       "Constant_Directory(/home/edsaa/Repositories/foamy/examples/example_my_cavity/constant)"
      ]
     },
     "execution_count": 7,
     "metadata": {},
     "output_type": "execute_result"
    }
   ],
   "source": [
    "of_case.constant"
   ]
  },
  {
   "cell_type": "code",
   "execution_count": 8,
   "metadata": {},
   "outputs": [
    {
     "data": {
      "text/html": [
       "<details open>\n",
       "<summary style='font-size: 1.0rem; border-bottom: 1px dashed purple; cursor: pointer;'><span>transportProperties</span></summary>\n",
       "<p style='font-size: 0.6rem; text-align: right; padding-bottom: -1em; margin-bottom: 0;'>▚ type: Dict_File</p><ul style='padding-top: -1rem; margin-top: -1em; margin-bottom: 0.4rem;'>\n",
       "<li><b>FoamFile</b>: <ul>\n",
       "<li><b>version:</b> 2</li>\n",
       "<li><b>format:</b> ascii</li>\n",
       "<li><b>class:</b> dictionary</li>\n",
       "<li><b>location:</b> \"constant\"</li>\n",
       "<li><b>object:</b> transportProperties</li>\n",
       "</ul></li>\n",
       "<li><b>nu</b>: '[ 0 2 -1 0 0 0 0 ] 0.01'</li>\n",
       "</ul>\n",
       "</details>\n"
      ],
      "text/plain": [
       "Dict_File(/home/edsaa/Repositories/foamy/examples/example_my_cavity/constant/transportProperties)"
      ]
     },
     "execution_count": 8,
     "metadata": {},
     "output_type": "execute_result"
    }
   ],
   "source": [
    "of_case.constant.transportProperties"
   ]
  },
  {
   "cell_type": "code",
   "execution_count": 9,
   "metadata": {},
   "outputs": [
    {
     "data": {
      "text/html": [
       "<ul>\n",
       "<li><b>version:</b> 2</li>\n",
       "<li><b>format:</b> ascii</li>\n",
       "<li><b>class:</b> dictionary</li>\n",
       "<li><b>location:</b> \"constant\"</li>\n",
       "<li><b>object:</b> transportProperties</li>\n",
       "</ul>"
      ],
      "text/plain": [
       "{'version': '2', 'format': 'ascii', 'class': 'dictionary', 'location': '\"constant\"', 'object': 'transportProperties'}"
      ]
     },
     "execution_count": 9,
     "metadata": {},
     "output_type": "execute_result"
    }
   ],
   "source": [
    "of_case.constant.transportProperties[\"FoamFile\"]"
   ]
  },
  {
   "cell_type": "code",
   "execution_count": 10,
   "metadata": {},
   "outputs": [
    {
     "data": {
      "text/html": [
       "<details open>\n",
       "<summary style='font-size: 1.0rem; border-bottom: 1px dashed purple; cursor: pointer;'><span>fvSolution</span></summary>\n",
       "<p style='font-size: 0.6rem; text-align: right; padding-bottom: -1em; margin-bottom: 0;'>▚ type: Dict_File</p><ul style='padding-top: -1rem; margin-top: -1em; margin-bottom: 0.4rem;'>\n",
       "<li><b>FoamFile</b>: <ul>\n",
       "<li><b>version:</b> 2</li>\n",
       "<li><b>format:</b> ascii</li>\n",
       "<li><b>class:</b> dictionary</li>\n",
       "<li><b>location:</b> \"system\"</li>\n",
       "<li><b>object:</b> fvSolution</li>\n",
       "</ul></li>\n",
       "<li><b>solvers</b>: <ul>\n",
       "<li><b>p:</b> <ul>\n",
       "<li><b>solver:</b> PCG</li>\n",
       "<li><b>preconditioner:</b> DIC</li>\n",
       "<li><b>tolerance:</b> 1e-06</li>\n",
       "<li><b>relTol:</b> 0.05</li>\n",
       "</ul></li>\n",
       "<li><b>pFinal:</b> <ul>\n",
       "<li><b>$p:</b> </li>\n",
       "<li><b>relTol:</b> 0</li>\n",
       "</ul></li>\n",
       "<li><b>U:</b> <ul>\n",
       "<li><b>solver:</b> smoothSolver</li>\n",
       "<li><b>smoother:</b> symGaussSeidel</li>\n",
       "<li><b>tolerance:</b> 1e-05</li>\n",
       "<li><b>relTol:</b> 0</li>\n",
       "</ul></li>\n",
       "</ul></li>\n",
       "<li><b>PISO</b>: <ul>\n",
       "<li><b>nCorrectors:</b> 2</li>\n",
       "<li><b>nNonOrthogonalCorrectors:</b> 0</li>\n",
       "<li><b>pRefCell:</b> 0</li>\n",
       "<li><b>pRefValue:</b> 0</li>\n",
       "</ul></li>\n",
       "</ul>\n",
       "</details>\n"
      ],
      "text/plain": [
       "Dict_File(/home/edsaa/Repositories/foamy/examples/example_my_cavity/system/fvSolution)"
      ]
     },
     "execution_count": 10,
     "metadata": {},
     "output_type": "execute_result"
    }
   ],
   "source": [
    "of_case.system.fvSolution\n"
   ]
  },
  {
   "cell_type": "code",
   "execution_count": 11,
   "metadata": {},
   "outputs": [
    {
     "data": {
      "text/plain": [
       "['FoamFile',\n",
       " 'application',\n",
       " 'startFrom',\n",
       " 'startTime',\n",
       " 'stopAt',\n",
       " 'endTime',\n",
       " 'deltaT',\n",
       " 'writeControl',\n",
       " 'writeInterval',\n",
       " 'purgeWrite',\n",
       " 'writeFormat',\n",
       " 'writePrecision',\n",
       " 'writeCompression',\n",
       " 'timeFormat',\n",
       " 'timePrecision',\n",
       " 'runTimeModifiable']"
      ]
     },
     "execution_count": 11,
     "metadata": {},
     "output_type": "execute_result"
    }
   ],
   "source": [
    "of_case.system.controlDict.keys()"
   ]
  },
  {
   "cell_type": "code",
   "execution_count": 12,
   "metadata": {},
   "outputs": [
    {
     "data": {
      "text/plain": [
       "[('FoamFile',\n",
       "  {'version': '2', 'format': 'ascii', 'class': 'dictionary', 'location': '\"system\"', 'object': 'controlDict'}),\n",
       " ('application', 'icoFoam'),\n",
       " ('startFrom', 'startTime'),\n",
       " ('startTime', '0'),\n",
       " ('stopAt', 'endTime'),\n",
       " ('endTime', '0.5'),\n",
       " ('deltaT', '0.005'),\n",
       " ('writeControl', 'timeStep'),\n",
       " ('writeInterval', '20'),\n",
       " ('purgeWrite', '0'),\n",
       " ('writeFormat', 'ascii'),\n",
       " ('writePrecision', '6'),\n",
       " ('writeCompression', 'off'),\n",
       " ('timeFormat', 'general'),\n",
       " ('timePrecision', '6'),\n",
       " ('runTimeModifiable', 'true')]"
      ]
     },
     "execution_count": 12,
     "metadata": {},
     "output_type": "execute_result"
    }
   ],
   "source": [
    "of_case.system.controlDict.items()"
   ]
  },
  {
   "cell_type": "code",
   "execution_count": 13,
   "metadata": {},
   "outputs": [
    {
     "data": {
      "text/html": [
       "<ul>\n",
       "<li><b>solver:</b> PCG</li>\n",
       "<li><b>preconditioner:</b> DIC</li>\n",
       "<li><b>tolerance:</b> 1e-06</li>\n",
       "<li><b>relTol:</b> 0.05</li>\n",
       "</ul>"
      ],
      "text/plain": [
       "{'solver': 'PCG', 'preconditioner': 'DIC', 'tolerance': '1e-06', 'relTol': '0.05'}"
      ]
     },
     "execution_count": 13,
     "metadata": {},
     "output_type": "execute_result"
    }
   ],
   "source": [
    "of_case.system.fvSolution[\"solvers\"][\"p\"]"
   ]
  },
  {
   "cell_type": "code",
   "execution_count": 14,
   "metadata": {},
   "outputs": [
    {
     "data": {
      "text/html": [
       "<ul>\n",
       "<li><b>solver:</b> PCG</li>\n",
       "<li><b>preconditioner:</b> DIC</li>\n",
       "<li><b>tolerance:</b> 1e-06</li>\n",
       "<li><b>relTol:</b> 0.05</li>\n",
       "</ul>"
      ],
      "text/plain": [
       "{'solver': 'PCG', 'preconditioner': 'DIC', 'tolerance': '1e-06', 'relTol': '0.05'}"
      ]
     },
     "execution_count": 14,
     "metadata": {},
     "output_type": "execute_result"
    }
   ],
   "source": [
    "of_case.system.fvSolution[\"solvers.p\"]"
   ]
  },
  {
   "cell_type": "code",
   "execution_count": 15,
   "metadata": {},
   "outputs": [
    {
     "ename": "ValueError",
     "evalue": "foamDictionary /home/edsaa/Repositories/foamy/examples/example_my_cavity/system/fvSolution -entry i_do_not_exist -value -disableFunctionEntries\n\n--> FOAM FATAL IO ERROR: \nCannot find entry i_do_not_exist\n\nfile:  from line 10 to line 48.\n\n    From function int main(int, char**)\n    in file foamDictionary.C at line 558.\n\nFOAM exiting",
     "output_type": "error",
     "traceback": [
      "\u001b[0;31m---------------------------------------------------------------------------\u001b[0m",
      "\u001b[0;31mValueError\u001b[0m                                Traceback (most recent call last)",
      "Cell \u001b[0;32mIn[15], line 1\u001b[0m\n\u001b[0;32m----> 1\u001b[0m \u001b[43mof_case\u001b[49m\u001b[38;5;241;43m.\u001b[39;49m\u001b[43msystem\u001b[49m\u001b[38;5;241;43m.\u001b[39;49m\u001b[43mfvSolution\u001b[49m\u001b[43m[\u001b[49m\u001b[38;5;124;43m\"\u001b[39;49m\u001b[38;5;124;43mi_do_not_exist\u001b[39;49m\u001b[38;5;124;43m\"\u001b[39;49m\u001b[43m]\u001b[49m\n",
      "File \u001b[0;32m~/Repositories/foamy/src/espuma/base.py:140\u001b[0m, in \u001b[0;36mOpenFoam_File.__getitem__\u001b[0;34m(self, key)\u001b[0m\n\u001b[1;32m    138\u001b[0m \u001b[38;5;28;01mdef\u001b[39;00m \u001b[38;5;21m__getitem__\u001b[39m(\u001b[38;5;28mself\u001b[39m, key: Any) \u001b[38;5;241m-\u001b[39m\u001b[38;5;241m>\u001b[39m Any:\n\u001b[1;32m    139\u001b[0m     \u001b[38;5;66;03m# print(f\"Calling the {type(self).__name__} getittem for {key}\")\u001b[39;00m\n\u001b[0;32m--> 140\u001b[0m     \u001b[38;5;28;01mreturn\u001b[39;00m \u001b[38;5;28;43mself\u001b[39;49m\u001b[38;5;241;43m.\u001b[39;49m\u001b[43mfoamDictionary_generate_dict\u001b[49m\u001b[43m(\u001b[49m\u001b[43mkey\u001b[49m\u001b[43m)\u001b[49m\n",
      "File \u001b[0;32m~/Repositories/foamy/src/espuma/base.py:228\u001b[0m, in \u001b[0;36mfoamDictionary_generate_dict\u001b[0;34m(self, entry)\u001b[0m\n\u001b[1;32m    223\u001b[0m \u001b[38;5;28;01mdef\u001b[39;00m \u001b[38;5;21m_foamDictionary_set_value\u001b[39m(\u001b[38;5;28mself\u001b[39m, entry, value) \u001b[38;5;241m-\u001b[39m\u001b[38;5;241m>\u001b[39m \u001b[38;5;28;01mNone\u001b[39;00m:\n\u001b[1;32m    224\u001b[0m \u001b[38;5;250m    \u001b[39m\u001b[38;5;124;03m\"\"\"\u001b[39;00m\n\u001b[1;32m    225\u001b[0m \u001b[38;5;124;03m    Entry corresponds to the name.key of the dictionary\u001b[39;00m\n\u001b[1;32m    226\u001b[0m \u001b[38;5;124;03m    \"\"\"\u001b[39;00m\n\u001b[1;32m    227\u001b[0m     command \u001b[38;5;241m=\u001b[39m [\n\u001b[0;32m--> 228\u001b[0m         \u001b[38;5;124m\"\u001b[39m\u001b[38;5;124mfoamDictionary\u001b[39m\u001b[38;5;124m\"\u001b[39m,\n\u001b[1;32m    229\u001b[0m         \u001b[38;5;28mstr\u001b[39m(\u001b[38;5;28mself\u001b[39m\u001b[38;5;241m.\u001b[39mpath),\n\u001b[1;32m    230\u001b[0m         \u001b[38;5;124m\"\u001b[39m\u001b[38;5;124m-entry\u001b[39m\u001b[38;5;124m\"\u001b[39m,\n\u001b[1;32m    231\u001b[0m         entry,\n\u001b[1;32m    232\u001b[0m         \u001b[38;5;124m\"\u001b[39m\u001b[38;5;124m-set\u001b[39m\u001b[38;5;124m\"\u001b[39m,\n\u001b[1;32m    233\u001b[0m         \u001b[38;5;28mstr\u001b[39m(value),\n\u001b[1;32m    234\u001b[0m         \u001b[38;5;124m\"\u001b[39m\u001b[38;5;124m-disableFunctionEntries\u001b[39m\u001b[38;5;124m\"\u001b[39m,\n\u001b[1;32m    235\u001b[0m     ]\n\u001b[1;32m    236\u001b[0m     value \u001b[38;5;241m=\u001b[39m run(command, cwd\u001b[38;5;241m=\u001b[39m\u001b[38;5;28mself\u001b[39m\u001b[38;5;241m.\u001b[39mpath\u001b[38;5;241m.\u001b[39mparent)\n\u001b[1;32m    238\u001b[0m     \u001b[38;5;28;01mif\u001b[39;00m value\u001b[38;5;241m.\u001b[39mreturncode \u001b[38;5;241m!=\u001b[39m \u001b[38;5;241m0\u001b[39m:\n",
      "File \u001b[0;32m~/Repositories/foamy/src/espuma/base.py:204\u001b[0m, in \u001b[0;36m_foamDictionary_get_value\u001b[0;34m(self, entry)\u001b[0m\n\u001b[1;32m    200\u001b[0m \u001b[38;5;28;01mdef\u001b[39;00m \u001b[38;5;21mfoamDictionary_generate_dict\u001b[39m(\u001b[38;5;28mself\u001b[39m, entry: Optional[\u001b[38;5;28mstr\u001b[39m] \u001b[38;5;241m=\u001b[39m \u001b[38;5;28;01mNone\u001b[39;00m):\n\u001b[1;32m    201\u001b[0m     command \u001b[38;5;241m=\u001b[39m [\n\u001b[1;32m    202\u001b[0m         \u001b[38;5;124m\"\u001b[39m\u001b[38;5;124mfoamDictionary\u001b[39m\u001b[38;5;124m\"\u001b[39m,\n\u001b[1;32m    203\u001b[0m         \u001b[38;5;28mstr\u001b[39m(\u001b[38;5;28mself\u001b[39m\u001b[38;5;241m.\u001b[39mpath),\n\u001b[0;32m--> 204\u001b[0m         \u001b[38;5;124m\"\u001b[39m\u001b[38;5;124m-keywords\u001b[39m\u001b[38;5;124m\"\u001b[39m,\n\u001b[1;32m    205\u001b[0m         \u001b[38;5;124m\"\u001b[39m\u001b[38;5;124m-disableFunctionEntries\u001b[39m\u001b[38;5;124m\"\u001b[39m,\n\u001b[1;32m    206\u001b[0m     ]\n\u001b[1;32m    207\u001b[0m     \u001b[38;5;28;01mif\u001b[39;00m entry:\n\u001b[1;32m    208\u001b[0m         command\u001b[38;5;241m.\u001b[39mextend((\u001b[38;5;124m\"\u001b[39m\u001b[38;5;124m-entry\u001b[39m\u001b[38;5;124m\"\u001b[39m, entry))\n",
      "\u001b[0;31mValueError\u001b[0m: foamDictionary /home/edsaa/Repositories/foamy/examples/example_my_cavity/system/fvSolution -entry i_do_not_exist -value -disableFunctionEntries\n\n--> FOAM FATAL IO ERROR: \nCannot find entry i_do_not_exist\n\nfile:  from line 10 to line 48.\n\n    From function int main(int, char**)\n    in file foamDictionary.C at line 558.\n\nFOAM exiting"
     ]
    }
   ],
   "source": [
    "of_case.system.fvSolution[\"i_do_not_exist\"]\n"
   ]
  },
  {
   "cell_type": "code",
   "execution_count": 16,
   "metadata": {},
   "outputs": [
    {
     "data": {
      "text/plain": [
       "'PCG'"
      ]
     },
     "execution_count": 16,
     "metadata": {},
     "output_type": "execute_result"
    }
   ],
   "source": [
    "of_case.system.fvSolution[\"solvers.p.solver\"]"
   ]
  },
  {
   "cell_type": "code",
   "execution_count": 17,
   "metadata": {},
   "outputs": [
    {
     "ename": "NotImplementedError",
     "evalue": "OpenFoam_Dict does not allow setting items directly.\nTry setting from an OpenFoam_File instance instead",
     "output_type": "error",
     "traceback": [
      "\u001b[0;31m---------------------------------------------------------------------------\u001b[0m",
      "\u001b[0;31mNotImplementedError\u001b[0m                       Traceback (most recent call last)",
      "Cell \u001b[0;32mIn[17], line 1\u001b[0m\n\u001b[0;32m----> 1\u001b[0m \u001b[43mof_case\u001b[49m\u001b[38;5;241;43m.\u001b[39;49m\u001b[43msystem\u001b[49m\u001b[38;5;241;43m.\u001b[39;49m\u001b[43mfvSolution\u001b[49m\u001b[43m[\u001b[49m\u001b[38;5;124;43m\"\u001b[39;49m\u001b[38;5;124;43msolvers\u001b[39;49m\u001b[38;5;124;43m\"\u001b[39;49m\u001b[43m]\u001b[49m\u001b[43m[\u001b[49m\u001b[38;5;124;43m\"\u001b[39;49m\u001b[38;5;124;43mp\u001b[39;49m\u001b[38;5;124;43m\"\u001b[39;49m\u001b[43m]\u001b[49m\u001b[43m[\u001b[49m\u001b[38;5;124;43m\"\u001b[39;49m\u001b[38;5;124;43msolver\u001b[39;49m\u001b[38;5;124;43m\"\u001b[39;49m\u001b[43m]\u001b[49m \u001b[38;5;241m=\u001b[39m \u001b[38;5;124m\"\u001b[39m\u001b[38;5;124mPCG\u001b[39m\u001b[38;5;124m\"\u001b[39m\n",
      "File \u001b[0;32m~/Repositories/foamy/src/espuma/base.py:83\u001b[0m, in \u001b[0;36mOpenFoam_Dict.__setitem__\u001b[0;34m(self, key, value)\u001b[0m\n\u001b[1;32m     82\u001b[0m \u001b[38;5;28;01mdef\u001b[39;00m \u001b[38;5;21m__setitem__\u001b[39m(\u001b[38;5;28mself\u001b[39m, key: Any, value: Any) \u001b[38;5;241m-\u001b[39m\u001b[38;5;241m>\u001b[39m \u001b[38;5;28;01mNone\u001b[39;00m:\n\u001b[0;32m---> 83\u001b[0m     \u001b[38;5;28;01mraise\u001b[39;00m \u001b[38;5;167;01mNotImplementedError\u001b[39;00m(\n\u001b[1;32m     84\u001b[0m         \u001b[38;5;124mf\u001b[39m\u001b[38;5;124m\"\u001b[39m\u001b[38;5;132;01m{\u001b[39;00m\u001b[38;5;28mtype\u001b[39m(\u001b[38;5;28mself\u001b[39m)\u001b[38;5;241m.\u001b[39m\u001b[38;5;18m__name__\u001b[39m\u001b[38;5;132;01m}\u001b[39;00m\u001b[38;5;124m does not allow setting items directly.\u001b[39m\u001b[38;5;130;01m\\n\u001b[39;00m\u001b[38;5;124m\"\u001b[39m\n\u001b[1;32m     85\u001b[0m         \u001b[38;5;124m\"\u001b[39m\u001b[38;5;124mTry setting from an OpenFoam_File instance instead\u001b[39m\u001b[38;5;124m\"\u001b[39m\n\u001b[1;32m     86\u001b[0m     )\n",
      "\u001b[0;31mNotImplementedError\u001b[0m: OpenFoam_Dict does not allow setting items directly.\nTry setting from an OpenFoam_File instance instead"
     ]
    }
   ],
   "source": [
    "of_case.system.fvSolution[\"solvers\"][\"p\"][\"solver\"] = \"PCG\""
   ]
  },
  {
   "cell_type": "code",
   "execution_count": 18,
   "metadata": {},
   "outputs": [
    {
     "data": {
      "text/html": [
       "<details open>\n",
       "<summary style='font-size: 1.0rem; border-bottom: 1px dashed purple; cursor: pointer;'><span>fvSolution</span></summary>\n",
       "<p style='font-size: 0.6rem; text-align: right; padding-bottom: -1em; margin-bottom: 0;'>▚ type: Dict_File</p><ul style='padding-top: -1rem; margin-top: -1em; margin-bottom: 0.4rem;'>\n",
       "<li><b>FoamFile</b>: <ul>\n",
       "<li><b>version:</b> 2</li>\n",
       "<li><b>format:</b> ascii</li>\n",
       "<li><b>class:</b> dictionary</li>\n",
       "<li><b>location:</b> \"system\"</li>\n",
       "<li><b>object:</b> fvSolution</li>\n",
       "</ul></li>\n",
       "<li><b>solvers</b>: <ul>\n",
       "<li><b>p:</b> <ul>\n",
       "<li><b>solver:</b> Holi</li>\n",
       "<li><b>preconditioner:</b> DIC</li>\n",
       "<li><b>tolerance:</b> 1e-06</li>\n",
       "<li><b>relTol:</b> 0.05</li>\n",
       "</ul></li>\n",
       "<li><b>pFinal:</b> <ul>\n",
       "<li><b>$p:</b> </li>\n",
       "<li><b>relTol:</b> 0</li>\n",
       "</ul></li>\n",
       "<li><b>U:</b> <ul>\n",
       "<li><b>solver:</b> smoothSolver</li>\n",
       "<li><b>smoother:</b> symGaussSeidel</li>\n",
       "<li><b>tolerance:</b> 1e-05</li>\n",
       "<li><b>relTol:</b> 0</li>\n",
       "</ul></li>\n",
       "</ul></li>\n",
       "<li><b>PISO</b>: <ul>\n",
       "<li><b>nCorrectors:</b> 2</li>\n",
       "<li><b>nNonOrthogonalCorrectors:</b> 0</li>\n",
       "<li><b>pRefCell:</b> 0</li>\n",
       "<li><b>pRefValue:</b> 0</li>\n",
       "</ul></li>\n",
       "</ul>\n",
       "</details>\n"
      ],
      "text/plain": [
       "Dict_File(/home/edsaa/Repositories/foamy/examples/example_my_cavity/system/fvSolution)"
      ]
     },
     "execution_count": 18,
     "metadata": {},
     "output_type": "execute_result"
    }
   ],
   "source": [
    "of_case.system.fvSolution[\"solvers.p.solver\"] = \"Holi\"\n",
    "of_case.system.fvSolution"
   ]
  },
  {
   "cell_type": "code",
   "execution_count": 19,
   "metadata": {},
   "outputs": [
    {
     "data": {
      "text/html": [
       "<details open>\n",
       "<summary style='font-size: 1.0rem; border-bottom: 1px dashed purple; cursor: pointer;'><span>fvSolution</span></summary>\n",
       "<p style='font-size: 0.6rem; text-align: right; padding-bottom: -1em; margin-bottom: 0;'>▚ type: Dict_File</p><ul style='padding-top: -1rem; margin-top: -1em; margin-bottom: 0.4rem;'>\n",
       "<li><b>FoamFile</b>: <ul>\n",
       "<li><b>version:</b> 2</li>\n",
       "<li><b>format:</b> ascii</li>\n",
       "<li><b>class:</b> dictionary</li>\n",
       "<li><b>location:</b> \"system\"</li>\n",
       "<li><b>object:</b> fvSolution</li>\n",
       "</ul></li>\n",
       "<li><b>solvers</b>: <ul>\n",
       "<li><b>p:</b> <ul>\n",
       "<li><b>solver:</b> PCG</li>\n",
       "<li><b>preconditioner:</b> DIC</li>\n",
       "<li><b>tolerance:</b> 1e-06</li>\n",
       "<li><b>relTol:</b> 0.05</li>\n",
       "</ul></li>\n",
       "<li><b>pFinal:</b> <ul>\n",
       "<li><b>$p:</b> </li>\n",
       "<li><b>relTol:</b> 0</li>\n",
       "</ul></li>\n",
       "<li><b>U:</b> <ul>\n",
       "<li><b>solver:</b> smoothSolver</li>\n",
       "<li><b>smoother:</b> symGaussSeidel</li>\n",
       "<li><b>tolerance:</b> 1e-05</li>\n",
       "<li><b>relTol:</b> 0</li>\n",
       "</ul></li>\n",
       "</ul></li>\n",
       "<li><b>PISO</b>: <ul>\n",
       "<li><b>nCorrectors:</b> 2</li>\n",
       "<li><b>nNonOrthogonalCorrectors:</b> 0</li>\n",
       "<li><b>pRefCell:</b> 0</li>\n",
       "<li><b>pRefValue:</b> 0</li>\n",
       "</ul></li>\n",
       "</ul>\n",
       "</details>\n"
      ],
      "text/plain": [
       "Dict_File(/home/edsaa/Repositories/foamy/examples/example_my_cavity/system/fvSolution)"
      ]
     },
     "execution_count": 19,
     "metadata": {},
     "output_type": "execute_result"
    }
   ],
   "source": [
    "of_case.system.fvSolution[\"solvers.p.solver\"] = \"PCG\"\n",
    "of_case.system.fvSolution"
   ]
  },
  {
   "cell_type": "code",
   "execution_count": 20,
   "metadata": {},
   "outputs": [
    {
     "name": "stdout",
     "output_type": "stream",
     "text": [
      "blockMesh finished successfully!\n"
     ]
    }
   ],
   "source": [
    "of_case._blockMesh()"
   ]
  },
  {
   "cell_type": "code",
   "execution_count": 21,
   "metadata": {},
   "outputs": [
    {
     "name": "stdout",
     "output_type": "stream",
     "text": [
      "icoFoam finished successfully!\n"
     ]
    }
   ],
   "source": [
    "of_case._runCase()"
   ]
  },
  {
   "cell_type": "code",
   "execution_count": 22,
   "metadata": {},
   "outputs": [
    {
     "data": {
      "text/plain": [
       "[0.0, 0.1, 0.2, 0.3, 0.4, 0.5]"
      ]
     },
     "execution_count": 22,
     "metadata": {},
     "output_type": "execute_result"
    }
   ],
   "source": [
    "of_case.list_times"
   ]
  },
  {
   "cell_type": "code",
   "execution_count": 23,
   "metadata": {},
   "outputs": [
    {
     "data": {
      "text/plain": [
       "True"
      ]
     },
     "execution_count": 23,
     "metadata": {},
     "output_type": "execute_result"
    }
   ],
   "source": [
    "of_case.is_finished()"
   ]
  },
  {
   "cell_type": "code",
   "execution_count": 24,
   "metadata": {},
   "outputs": [
    {
     "data": {
      "text/plain": [
       "0.5"
      ]
     },
     "execution_count": 24,
     "metadata": {},
     "output_type": "execute_result"
    }
   ],
   "source": [
    "of_case.list_times[-1]"
   ]
  },
  {
   "cell_type": "code",
   "execution_count": null,
   "metadata": {},
   "outputs": [],
   "source": []
  }
 ],
 "metadata": {
  "kernelspec": {
   "display_name": "wenv",
   "language": "python",
   "name": "python3"
  },
  "language_info": {
   "codemirror_mode": {
    "name": "ipython",
    "version": 3
   },
   "file_extension": ".py",
   "mimetype": "text/x-python",
   "name": "python",
   "nbconvert_exporter": "python",
   "pygments_lexer": "ipython3",
   "version": "3.11.7"
  }
 },
 "nbformat": 4,
 "nbformat_minor": 2
}
