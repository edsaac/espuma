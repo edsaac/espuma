{
 "cells": [
  {
   "cell_type": "code",
   "execution_count": 2,
   "metadata": {},
   "outputs": [],
   "source": [
    "from espuma import Case_Directory\n",
    "import pyvista as pv"
   ]
  },
  {
   "cell_type": "code",
   "execution_count": 3,
   "metadata": {},
   "outputs": [],
   "source": [
    "of_case = Case_Directory(\"./example_my_cavity\")"
   ]
  },
  {
   "cell_type": "code",
   "execution_count": 17,
   "metadata": {},
   "outputs": [],
   "source": [
    "reader = of_case.get_vtk_reader()"
   ]
  },
  {
   "cell_type": "code",
   "execution_count": 18,
   "metadata": {},
   "outputs": [
    {
     "name": "stdout",
     "output_type": "stream",
     "text": [
      "Available Time Values: [0.0, 0.1, 0.2, 0.3, 0.4, 0.5]\n",
      "Available Time Values: [0.0, 0.1, 0.2, 0.3, 0.4, 0.5]\n"
     ]
    }
   ],
   "source": [
    "# Using pyvista\n",
    "print(f\"Available Time Values: {reader.time_values}\")\n",
    "\n",
    "# Using espuma\n",
    "print(f\"Available Time Values: {of_case.list_times}\")"
   ]
  },
  {
   "cell_type": "code",
   "execution_count": 22,
   "metadata": {},
   "outputs": [],
   "source": [
    "reader.set_active_time_value(0.5)\n",
    "reader.cell_to_point_creation = True"
   ]
  },
  {
   "cell_type": "code",
   "execution_count": 23,
   "metadata": {},
   "outputs": [
    {
     "data": {
      "text/html": [
       "<table style='width: 100%;'><tr><th>Information</th><th>Blocks</th></tr><tr><td>\n",
       "<table>\n",
       "<tr><th>MultiBlock</th><th>Values</th></tr>\n",
       "<tr><td>N Blocks</td><td>2</td></tr>\n",
       "<tr><td>X Bounds</td><td>0.000, 0.100</td></tr>\n",
       "<tr><td>Y Bounds</td><td>0.000, 0.100</td></tr>\n",
       "<tr><td>Z Bounds</td><td>0.000, 0.010</td></tr>\n",
       "</table>\n",
       "\n",
       "</td><td>\n",
       "<table>\n",
       "<tr><th>Index</th><th>Name</th><th>Type</th></tr>\n",
       "<tr><th>0</th><th>internalMesh</th><th>UnstructuredGrid</th></tr>\n",
       "<tr><th>1</th><th>boundary</th><th>MultiBlock</th></tr>\n",
       "</table>\n",
       "\n",
       "</td></tr> </table>"
      ],
      "text/plain": [
       "MultiBlock (0x7f81380bec20)\n",
       "  N Blocks    2\n",
       "  X Bounds    0.000, 0.100\n",
       "  Y Bounds    0.000, 0.100\n",
       "  Z Bounds    0.000, 0.010"
      ]
     },
     "execution_count": 23,
     "metadata": {},
     "output_type": "execute_result"
    }
   ],
   "source": [
    "mesh = reader.read()\n",
    "mesh"
   ]
  },
  {
   "cell_type": "code",
   "execution_count": 24,
   "metadata": {},
   "outputs": [],
   "source": [
    "internal_mesh = mesh[\"internalMesh\"]\n",
    "boundaries = mesh[\"boundary\"]"
   ]
  },
  {
   "cell_type": "code",
   "execution_count": 25,
   "metadata": {},
   "outputs": [
    {
     "data": {
      "text/html": [
       "<table style='width: 100%;'><tr><th>Header</th><th>Data Arrays</th></tr><tr><td>\n",
       "<table style='width: 100%;'>\n",
       "<tr><th>UnstructuredGrid</th><th>Information</th></tr>\n",
       "<tr><td>N Cells</td><td>400</td></tr>\n",
       "<tr><td>N Points</td><td>882</td></tr>\n",
       "<tr><td>X Bounds</td><td>0.000e+00, 1.000e-01</td></tr>\n",
       "<tr><td>Y Bounds</td><td>0.000e+00, 1.000e-01</td></tr>\n",
       "<tr><td>Z Bounds</td><td>0.000e+00, 1.000e-02</td></tr>\n",
       "<tr><td>N Arrays</td><td>4</td></tr>\n",
       "</table>\n",
       "\n",
       "</td><td>\n",
       "<table style='width: 100%;'>\n",
       "<tr><th>Name</th><th>Field</th><th>Type</th><th>N Comp</th><th>Min</th><th>Max</th></tr>\n",
       "<tr><td>U</td><td>Points</td><td>float32</td><td>3</td><td>-3.511e-01</td><td>1.000e+00</td></tr>\n",
       "<tr><td><b>p</b></td><td>Points</td><td>float32</td><td>1</td><td>-4.367e+00</td><td>4.849e+00</td></tr>\n",
       "<tr><td>U</td><td>Cells</td><td>float32</td><td>3</td><td>-3.686e-01</td><td>8.527e-01</td></tr>\n",
       "<tr><td><b>p</b></td><td>Cells</td><td>float32</td><td>1</td><td>-4.367e+00</td><td>4.849e+00</td></tr>\n",
       "</table>\n",
       "\n",
       "</td></tr> </table>"
      ],
      "text/plain": [
       "UnstructuredGrid (0x7f815c3102e0)\n",
       "  N Cells:    400\n",
       "  N Points:   882\n",
       "  X Bounds:   0.000e+00, 1.000e-01\n",
       "  Y Bounds:   0.000e+00, 1.000e-01\n",
       "  Z Bounds:   0.000e+00, 1.000e-02\n",
       "  N Arrays:   4"
      ]
     },
     "execution_count": 25,
     "metadata": {},
     "output_type": "execute_result"
    }
   ],
   "source": [
    "internal_mesh"
   ]
  },
  {
   "cell_type": "code",
   "execution_count": 26,
   "metadata": {},
   "outputs": [
    {
     "data": {
      "text/html": [
       "<table style='width: 100%;'><tr><th>Information</th><th>Blocks</th></tr><tr><td>\n",
       "<table>\n",
       "<tr><th>MultiBlock</th><th>Values</th></tr>\n",
       "<tr><td>N Blocks</td><td>3</td></tr>\n",
       "<tr><td>X Bounds</td><td>0.000, 0.100</td></tr>\n",
       "<tr><td>Y Bounds</td><td>0.000, 0.100</td></tr>\n",
       "<tr><td>Z Bounds</td><td>0.000, 0.010</td></tr>\n",
       "</table>\n",
       "\n",
       "</td><td>\n",
       "<table>\n",
       "<tr><th>Index</th><th>Name</th><th>Type</th></tr>\n",
       "<tr><th>0</th><th>movingWall</th><th>PolyData</th></tr>\n",
       "<tr><th>1</th><th>fixedWalls</th><th>PolyData</th></tr>\n",
       "<tr><th>2</th><th>frontAndBack</th><th>PolyData</th></tr>\n",
       "</table>\n",
       "\n",
       "</td></tr> </table>"
      ],
      "text/plain": [
       "MultiBlock (0x7f81380bef20)\n",
       "  N Blocks    3\n",
       "  X Bounds    0.000, 0.100\n",
       "  Y Bounds    0.000, 0.100\n",
       "  Z Bounds    0.000, 0.010"
      ]
     },
     "execution_count": 26,
     "metadata": {},
     "output_type": "execute_result"
    }
   ],
   "source": [
    "boundaries"
   ]
  },
  {
   "cell_type": "code",
   "execution_count": 27,
   "metadata": {},
   "outputs": [],
   "source": [
    "def slice_z_center(mesh):\n",
    "    \"\"\"Slice mesh through center in z normal direction, move to z=0.\"\"\"\n",
    "    slice_mesh = mesh.slice(normal='z')\n",
    "    slice_mesh.translate((0, 0, -slice_mesh.center[-1]), inplace=True)\n",
    "    return slice_mesh\n",
    "\n",
    "\n",
    "slice_internal_mesh = slice_z_center(internal_mesh)\n",
    "slice_boundaries = pv.MultiBlock(\n",
    "    {key: slice_z_center(boundaries[key]) for key in boundaries.keys()}\n",
    ")"
   ]
  },
  {
   "cell_type": "code",
   "execution_count": 29,
   "metadata": {},
   "outputs": [
    {
     "data": {
      "application/vnd.jupyter.widget-view+json": {
       "model_id": "c13724c97fd947659c35ed762879828d",
       "version_major": 2,
       "version_minor": 0
      },
      "text/plain": [
       "Widget(value='<iframe src=\"http://localhost:45167/index.html?ui=P_0x7f8156d0a310_2&reconnect=auto\" class=\"pyvi…"
      ]
     },
     "metadata": {},
     "output_type": "display_data"
    },
    {
     "name": "stdout",
     "output_type": "stream",
     "text": [
      " JS Error => Malformed message:  {\"wslink\": \"1.0\", \"id\": \"publish:trame.vtk.delta:0\", \"result\": {\"parent\": \"0x0\", \"id\": 3, \"type\": \"vtkXOpenGLRenderWindow\", \"properties\": {\"numberOfLayers\": 2}, \"dependencies\": [{\"parent\": \"0000000004d822a0\", \"id\": \"00000000064adbc0\", \"type\": \"vtkOpenGLRenderer\", \"properties\": {\"background\": [1.0, 1.0, 1.0], \"background2\": [0.2, 0.2, 0.2], \"viewport\": [0.0, 0.0, 1.0, 1.0], \"twoSidedLighting\": 1, \"lightFollowCamera\": 1, \"layer\": 0, \"preserveColorBuffer\": 0, \"preserveDepthBuffer\": 0, \"nearClippingPlaneTolerance\": 0.001, \"clippingRangeExpansion\": 0.5, \"useShadows\": 0, \"useDepthPeeling\": 0, \"occlusionRatio\": 0.0, \"maximumNumberOfPeels\": 4, \"interactive\": 1}, \"dependencies\": [{\"parent\": \"00000000064adbc0\", \"id\": \"00000000059b8840\", \"type\": \"vtkOpenGLCamera\", \"properties\": {\"focalPoint\": [0.05000000074505806, 0.05000000074505806, 0.0], \"position\": [0.05000000074505806, 0.05000000074505806, 0.27320508482796074], \"viewUp\": [0.0, 1.0, 0.0], \"clippingRange\": [0.2559052226919831, 0.29564103410323617]}}, {\"parent\": \"00000000064adbc0\", \"id\": \"0000000005c91610\", \"type\": \"vtkOpenGLActor\", \"properties\": {\"visibility\": 1, \"pickable\": 1, \"dragable\": 1, \"useBounds\": true, \"origin\": [0.0, 0.0, 0.0], \"position\": [0.0, 0.0, 0.0], \"scale\": [1.0, 1.0, 1.0], \"forceOpaque\": false, \"forceTranslucent\": false, \"userMatrix\": [1.0, 0.0, 0.0, 0.0, 0.0, 1.0, 0.0, 0.0, 0.0, 0.0, 1.0, 0.0, 0.0, 0.0, 0.0, 1.0]}, \"calls\": [[\"setMapper\", [\"instance:${0000000005d2c150}\"]], [\"setProperty\", [\"instance:${0000000005dd0810}\"]]], \"dependencies\": [{\"parent\": \"0000000005c91610\", \"id\": \"0000000005d2c150\", \"type\": \"vtkMapper\", \"properties\": {\"resolveCoincidentTopology\": 0, \"renderTime\": 0.0, \"arrayAccessMode\": 0, \"scalarRange\": [-4.366660118103027, 4.84853982925415], \"useLookupTableScalarRange\": 0, \"scalarVisibility\": 1, \"colorByArrayName\": -1, \"colorMode\": 1, \"scalarMode\": 1, \"interpolateScalarsBeforeMapping\": 1}, \"calls\": [[\"setInputData\", [\"instance:${0000000005d2c150-dataset}\"]], [\"setLookupTable\", [\"instance:${00000000064394e0}\"]]], \"dependencies\": [{\"parent\": \"0000000005d2c150\", \"id\": \"0000000005d2c150-dataset\", \"type\": \"vtkPolyData\", \"properties\": {\"points\": {\"hash\": \"6023d66586eb26f67474a2cf809e86e1_1323f\", \"vtkClass\": \"vtkPoints\", \"name\": \"Points\", \"dataType\": \"Float32Array\", \"numberOfComponents\": 3, \"size\": 1323, \"ranges\": [{\"min\": 0.0, \"max\": 0.10000000149011612, \"component\": null}, {\"min\": 0.0, \"max\": 0.10000000149011612, \"component\": null}, {\"min\": 0.0, \"max\": 0.0, \"component\": null}, {\"min\": 0.0, \"max\": 0.14142135834465194, \"component\": null}]}, \"polys\": {\"hash\": \"72289127549b0d407ebd8961461996de_2000L\", \"vtkClass\": \"vtkCellArray\", \"name\": null, \"dataType\": \"Uint32Array\", \"numberOfComponents\": 1, \"size\": 2000, \"ranges\": [{\"min\": 0.0, \"max\": 440.0, \"component\": null}]}, \"fields\": [{\"hash\": \"204125388bba43aca184e400d6ef2bee_441f\", \"vtkClass\": \"vtkDataArray\", \"name\": \"p\", \"dataType\": \"Float32Array\", \"numberOfComponents\": 1, \"size\": 441, \"ranges\": [{\"min\": -4.366660118103027, \"max\": 4.84853982925415, \"component\": null}], \"location\": \"pointData\", \"registration\": \"setScalars\"}]}}, {\"parent\": \"0000000005d2c150\", \"id\": \"00000000064394e0\", \"type\": \"vtkLookupTable\", \"properties\": {\"numberOfColors\": 256, \"valueRange\": [-4.366660118103027, 4.84853982925415], \"hueRange\": [0.5, 0], \"saturationRange\": [1.0, 1.0], \"nanColor\": [0.6627450980392157, 0.6627450980392157, 0.6627450980392157, 1.0], \"belowRangeColor\": [0.0, 0.0, 0.0, 1.0], \"aboveRangeColor\": [1.0, 1.0, 1.0, 1.0], \"useAboveRangeColor\": false, \"useBelowRangeColor\": false, \"alpha\": 1.0, \"vectorSize\": -1, \"vectorComponent\": 0, \"vectorMode\": 1, \"indexedLookup\": 0, \"table\": [[68, 1, 84, 255], [68, 2, 85, 255], [68, 3, 87, 255], [69, 5, 88, 255], [69, 6, 90, 255], [69, 8, 91, 255], [70, 9, 92, 255], [70, 11, 94, 255], [70, 12, 95, 255], [70, 14, 97, 255], [71, 15, 98, 255], [71, 17, 99, 255], [71, 18, 101, 255], [71, 20, 102, 255], [71, 21, 103, 255], [71, 22, 105, 255], [71, 24, 106, 255], [72, 25, 107, 255], [72, 26, 108, 255], [72, 28, 110, 255], [72, 29, 111, 255], [72, 30, 112, 255], [72, 32, 113, 255], [72, 33, 114, 255], [72, 34, 115, 255], [72, 35, 116, 255], [71, 37, 117, 255], [71, 38, 118, 255], [71, 39, 119, 255], [71, 40, 120, 255], [71, 42, 121, 255], [71, 43, 122, 255], [71, 44, 123, 255], [70, 45, 124, 255], [70, 47, 124, 255], [70, 48, 125, 255], [70, 49, 126, 255], [69, 50, 127, 255], [69, 52, 127, 255], [69, 53, 128, 255], [69, 54, 129, 255], [68, 55, 129, 255], [68, 57, 130, 255], [67, 58, 131, 255], [67, 59, 131, 255], [67, 60, 132, 255], [66, 61, 132, 255], [66, 62, 133, 255], [66, 64, 133, 255], [65, 65, 134, 255], [65, 66, 134, 255], [64, 67, 135, 255], [64, 68, 135, 255], [63, 69, 135, 255], [63, 71, 136, 255], [62, 72, 136, 255], [62, 73, 137, 255], [61, 74, 137, 255], [61, 75, 137, 255], [61, 76, 137, 255], [60, 77, 138, 255], [60, 78, 138, 255], [59, 80, 138, 255], [59, 81, 138, 255], [58, 82, 139, 255], [58, 83, 139, 255], [57, 84, 139, 255], [57, 85, 139, 255], [56, 86, 139, 255], [56, 87, 140, 255], [55, 88, 140, 255], [55, 89, 140, 255], [54, 90, 140, 255], [54, 91, 140, 255], [53, 92, 140, 255], [53, 93, 140, 255], [52, 94, 141, 255], [52, 95, 141, 255], [51, 96, 141, 255], [51, 97, 141, 255], [50, 98, 141, 255], [50, 99, 141, 255], [49, 100, 141, 255], [49, 101, 141, 255], [49, 102, 141, 255], [48, 103, 141, 255], [48, 104, 141, 255], [47, 105, 141, 255], [47, 106, 141, 255], [46, 107, 142, 255], [46, 108, 142, 255], [46, 109, 142, 255], [45, 110, 142, 255], [45, 111, 142, 255], [44, 112, 142, 255], [44, 113, 142, 255], [44, 114, 142, 255], [43, 115, 142, 255], [43, 116, 142, 255], [42, 117, 142, 255], [42, 118, 142, 255], [42, 119, 142, 255], [41, 120, 142, 255], [41, 121, 142, 255], [40, 122, 142, 255], [40, 122, 142, 255], [40, 123, 142, 255], [39, 124, 142, 255], [39, 125, 142, 255], [39, 126, 142, 255], [38, 127, 142, 255], [38, 128, 142, 255], [38, 129, 142, 255], [37, 130, 142, 255], [37, 131, 141, 255], [36, 132, 141, 255], [36, 133, 141, 255], [36, 134, 141, 255], [35, 135, 141, 255], [35, 136, 141, 255], [35, 137, 141, 255], [34, 137, 141, 255], [34, 138, 141, 255], [34, 139, 141, 255], [33, 140, 141, 255], [33, 141, 140, 255], [33, 142, 140, 255], [32, 143, 140, 255], [32, 144, 140, 255], [32, 145, 140, 255], [31, 146, 140, 255], [31, 147, 139, 255], [31, 148, 139, 255], [31, 149, 139, 255], [31, 150, 139, 255], [30, 151, 138, 255], [30, 152, 138, 255], [30, 153, 138, 255], [30, 153, 138, 255], [30, 154, 137, 255], [30, 155, 137, 255], [30, 156, 137, 255], [30, 157, 136, 255], [30, 158, 136, 255], [30, 159, 136, 255], [30, 160, 135, 255], [31, 161, 135, 255], [31, 162, 134, 255], [31, 163, 134, 255], [32, 164, 133, 255], [32, 165, 133, 255], [33, 166, 133, 255], [33, 167, 132, 255], [34, 167, 132, 255], [35, 168, 131, 255], [35, 169, 130, 255], [36, 170, 130, 255], [37, 171, 129, 255], [38, 172, 129, 255], [39, 173, 128, 255], [40, 174, 127, 255], [41, 175, 127, 255], [42, 176, 126, 255], [43, 177, 125, 255], [44, 177, 125, 255], [46, 178, 124, 255], [47, 179, 123, 255], [48, 180, 122, 255], [50, 181, 122, 255], [51, 182, 121, 255], [53, 183, 120, 255], [54, 184, 119, 255], [56, 185, 118, 255], [57, 185, 118, 255], [59, 186, 117, 255], [61, 187, 116, 255], [62, 188, 115, 255], [64, 189, 114, 255], [66, 190, 113, 255], [68, 190, 112, 255], [69, 191, 111, 255], [71, 192, 110, 255], [73, 193, 109, 255], [75, 194, 108, 255], [77, 194, 107, 255], [79, 195, 105, 255], [81, 196, 104, 255], [83, 197, 103, 255], [85, 198, 102, 255], [87, 198, 101, 255], [89, 199, 100, 255], [91, 200, 98, 255], [94, 201, 97, 255], [96, 201, 96, 255], [98, 202, 95, 255], [100, 203, 93, 255], [103, 204, 92, 255], [105, 204, 91, 255], [107, 205, 89, 255], [109, 206, 88, 255], [112, 206, 86, 255], [114, 207, 85, 255], [116, 208, 84, 255], [119, 208, 82, 255], [121, 209, 81, 255], [124, 210, 79, 255], [126, 210, 78, 255], [129, 211, 76, 255], [131, 211, 75, 255], [134, 212, 73, 255], [136, 213, 71, 255], [139, 213, 70, 255], [141, 214, 68, 255], [144, 214, 67, 255], [146, 215, 65, 255], [149, 215, 63, 255], [151, 216, 62, 255], [154, 216, 60, 255], [157, 217, 58, 255], [159, 217, 56, 255], [162, 218, 55, 255], [165, 218, 53, 255], [167, 219, 51, 255], [170, 219, 50, 255], [173, 220, 48, 255], [175, 220, 46, 255], [178, 221, 44, 255], [181, 221, 43, 255], [183, 221, 41, 255], [186, 222, 39, 255], [189, 222, 38, 255], [191, 223, 36, 255], [194, 223, 34, 255], [197, 223, 33, 255], [199, 224, 31, 255], [202, 224, 30, 255], [205, 224, 29, 255], [207, 225, 28, 255], [210, 225, 27, 255], [212, 225, 26, 255], [215, 226, 25, 255], [218, 226, 24, 255], [220, 226, 24, 255], [223, 227, 24, 255], [225, 227, 24, 255], [228, 227, 24, 255], [231, 228, 25, 255], [233, 228, 25, 255], [236, 228, 26, 255], [238, 229, 27, 255], [241, 229, 28, 255], [243, 229, 30, 255], [246, 230, 31, 255], [248, 230, 33, 255], [250, 230, 34, 255], [253, 231, 36, 255]]}}]}, {\"parent\": \"0000000005c91610\", \"id\": \"0000000005dd0810\", \"type\": \"vtkOpenGLProperty\", \"properties\": {\"representation\": 2, \"diffuseColor\": [0.6784313725490196, 0.8470588235294118, 0.9019607843137255], \"color\": [0.6784313725490196, 0.8470588235294118, 0.9019607843137255], \"ambientColor\": [0.6784313725490196, 0.8470588235294118, 0.9019607843137255], \"specularColor\": [0.6784313725490196, 0.8470588235294118, 0.9019607843137255], \"edgeColor\": [0.0, 0.0, 0.0], \"ambient\": 0.0, \"diffuse\": 1.0, \"specular\": 0.0, \"specularPower\": 100.0, \"opacity\": 1.0, \"interpolation\": 0, \"edgeVisibility\": 0, \"backfaceCulling\": 0, \"frontfaceCulling\": 0, \"pointSize\": 5.0, \"lineWidth\": 1.0, \"lighting\": 1}}]}, {\"parent\": \"00000000064adbc0\", \"id\": \"0000000005dd1cb0\", \"type\": \"vtkScalarBarActor\", \"properties\": {\"visibility\": 1, \"pickable\": 0, \"dragable\": 1, \"useBounds\": true, \"automated\": true, \"axisLabel\": \"p\", \"boxPosition\": [0.88, -0.92], \"boxSize\": [0.6, 0.08], \"axisTitlePixelOffset\": 36.0, \"axisTextStyle\": {\"fontColor\": \"#000000\", \"fontStyle\": \"normal\", \"fontSize\": 18, \"fontFamily\": \"serif\"}, \"tickLabelPixelOffset\": 14.0, \"tickTextStyle\": {\"fontColor\": \"#000000\", \"fontStyle\": \"normal\", \"fontSize\": 14, \"fontFamily\": \"serif\"}, \"drawNanAnnotation\": 0, \"drawBelowRangeSwatch\": false, \"drawAboveRangeSwatch\": false}, \"calls\": [[\"setScalarsToColors\", [\"instance:${00000000064394e0}\"]]], \"dependencies\": [{\"parent\": \"0000000005dd1cb0\", \"id\": \"00000000064394e0\", \"type\": \"vtkLookupTable\", \"properties\": {}}]}, {\"parent\": \"00000000064adbc0\", \"id\": \"0000000005e3d450\", \"type\": \"vtkOpenGLLight\", \"properties\": {\"switch\": 1, \"intensity\": 0.25, \"color\": [1.0, 1.0, 1.0], \"position\": [0.0, 0.0, 1.0], \"focalPoint\": [0.0, 0.0, 0.0], \"positional\": 0, \"exponent\": 1.0, \"coneAngle\": 30.0, \"attenuationValues\": [1.0, 0.0, 0.0], \"lightType\": \"HeadLight\", \"shadowAttenuation\": 1.0}}, {\"parent\": \"00000000064adbc0\", \"id\": \"0000000005da5160\", \"type\": \"vtkOpenGLLight\", \"properties\": {\"switch\": 1, \"intensity\": 0.75, \"color\": [1.0, 0.9725490196078431, 0.9019607843137255], \"position\": [0.11161889704894966, 0.766044443118978, 0.6330222215594891], \"focalPoint\": [0.0, 0.0, 0.0], \"positional\": 0, \"exponent\": 1.0, \"coneAngle\": 30.0, \"attenuationValues\": [1.0, 0.0, 0.0], \"lightType\": \"CameraLight\", \"shadowAttenuation\": 1.0}}, {\"parent\": \"00000000064adbc0\", \"id\": \"0000000005ea4a20\", \"type\": \"vtkOpenGLLight\", \"properties\": {\"switch\": 1, \"intensity\": 0.25, \"color\": [0.9098039215686274, 0.9333333333333333, 1.0], \"position\": [-0.044943455527547777, -0.9659258262890683, 0.25488700224417876], \"focalPoint\": [0.0, 0.0, 0.0], \"positional\": 0, \"exponent\": 1.0, \"coneAngle\": 30.0, \"attenuationValues\": [1.0, 0.0, 0.0], \"lightType\": \"CameraLight\", \"shadowAttenuation\": 1.0}}, {\"parent\": \"00000000064adbc0\", \"id\": \"0000000005cf37d0\", \"type\": \"vtkOpenGLLight\", \"properties\": {\"switch\": 1, \"intensity\": 0.21428571428571427, \"color\": [1.0, 1.0, 1.0], \"position\": [0.9396926207859084, 0.0, -0.3420201433256687], \"focalPoint\": [0.0, 0.0, 0.0], \"positional\": 0, \"exponent\": 1.0, \"coneAngle\": 30.0, \"attenuationValues\": [1.0, 0.0, 0.0], \"lightType\": \"CameraLight\", \"shadowAttenuation\": 1.0}}, {\"parent\": \"00000000064adbc0\", \"id\": \"0000000005cf3d60\", \"type\": \"vtkOpenGLLight\", \"properties\": {\"switch\": 1, \"intensity\": 0.21428571428571427, \"color\": [1.0, 1.0, 1.0], \"position\": [-0.9396926207859084, 0.0, -0.3420201433256687], \"focalPoint\": [0.0, 0.0, 0.0], \"positional\": 0, \"exponent\": 1.0, \"coneAngle\": 30.0, \"attenuationValues\": [1.0, 0.0, 0.0], \"lightType\": \"CameraLight\", \"shadowAttenuation\": 1.0}}], \"calls\": [[\"setActiveCamera\", [\"instance:${00000000059b8840}\"]], [\"addViewProp\", [\"instance:${0000000005c91610}\"]], [\"addViewProp\", [\"instance:${0000000005dd1cb0}\"]], [\"addLight\", [\"instance:${0000000005e3d450}\"]], [\"addLight\", [\"instance:${0000000005da5160}\"]], [\"addLight\", [\"instance:${0000000005ea4a20}\"]], [\"addLight\", [\"instance:${0000000005cf37d0}\"]], [\"addLight\", [\"instance:${0000000005cf3d60}\"]]]}], \"calls\": [[\"addRenderer\", [\"instance:${00000000064adbc0}\"]]], \"mtime\": 75214, \"extra\": {\"vtkRefId\": \"0000000004d822a0\", \"centerOfRotation\": [0.05000000074505806, 0.05000000074505806, 0.0], \"camera\": \"00000000059b8840\"}}}{\"wslink\": \"1.0\", \"id\": \"publish:trame.vtk.delta:0\", \"result\": {\"parent\": \"0x0\", \"id\": 3, \"type\": \"vtkXOpenGLRenderWindow\", \"properties\": {\"numberOfLayers\": 2}, \"dependencies\": [{\"parent\": \"0000000004d822a0\", \"id\": \"00000000064adbc0\", \"type\": \"vtkOpenGLRenderer\", \"properties\": {\"background\": [1.0, 1.0, 1.0], \"background2\": [0.2, 0.2, 0.2], \"viewport\": [0.0, 0.0, 1.0, 1.0], \"twoSidedLighting\": 1, \"lightFollowCamera\": 1, \"layer\": 0, \"preserveColorBuffer\": 0, \"preserveDepthBuffer\": 0, \"nearClippingPlaneTolerance\": 0.001, \"clippingRangeExpansion\": 0.5, \"useShadows\": 0, \"useDepthPeeling\": 0, \"occlusionRatio\": 0.0, \"maximumNumberOfPeels\": 4, \"interactive\": 1}, \"dependencies\": [{\"parent\": \"00000000064adbc0\", \"id\": \"00000000059b8840\", \"type\": \"vtkOpenGLCamera\", \"properties\": {\"focalPoint\": [0.05000000074505806, 0.05000000074505806, 0.0], \"position\": [0.05000000074505806, 0.05000000074505806, 0.27320508482796074], \"viewUp\": [0.0, 1.0, 0.0], \"clippingRange\": [0.2559052226919831, 0.29564103410323617]}}, {\"parent\": \"00000000064adbc0\", \"id\": \"0000000005c91610\", \"type\": \"vtkOpenGLActor\", \"properties\": {}, \"calls\": [[\"setMapper\", [\"instance:${0000000005d2c150}\"]], [\"setProperty\", [\"instance:${0000000005dd0810}\"]]], \"dependencies\": [{\"parent\": \"0000000005c91610\", \"id\": \"0000000005d2c150\", \"type\": \"vtkMapper\", \"properties\": {}, \"calls\": [[\"setInputData\", [\"instance:${0000000005d2c150-dataset}\"]], [\"setLookupTable\", [\"instance:${00000000064394e0}\"]]], \"dependencies\": [{\"parent\": \"0000000005d2c150\", \"id\": \"0000000005d2c150-dataset\", \"type\": \"vtkPolyData\", \"properties\": {\"points\": {\"hash\": \"6023d66586eb26f67474a2cf809e86e1_1323f\", \"vtkClass\": \"vtkPoints\", \"name\": \"Points\", \"dataType\": \"Float32Array\", \"numberOfComponents\": 3, \"size\": 1323, \"ranges\": [{\"min\": 0.0, \"max\": 0.10000000149011612, \"component\": null}, {\"min\": 0.0, \"max\": 0.10000000149011612, \"component\": null}, {\"min\": 0.0, \"max\": 0.0, \"component\": null}, {\"min\": 0.0, \"max\": 0.14142135834465194, \"component\": null}]}, \"polys\": {\"hash\": \"72289127549b0d407ebd8961461996de_2000L\", \"vtkClass\": \"vtkCellArray\", \"name\": null, \"dataType\": \"Uint32Array\", \"numberOfComponents\": 1, \"size\": 2000, \"ranges\": [{\"min\": 0.0, \"max\": 440.0, \"component\": null}]}, \"fields\": [{\"hash\": \"204125388bba43aca184e400d6ef2bee_441f\", \"vtkClass\": \"vtkDataArray\", \"name\": \"p\", \"dataType\": \"Float32Array\", \"numberOfComponents\": 1, \"size\": 441, \"ranges\": [{\"min\": -4.366660118103027, \"max\": 4.84853982925415, \"component\": null}], \"location\": \"pointData\", \"registration\": \"setScalars\"}]}}, {\"parent\": \"0000000005d2c150\", \"id\": \"00000000064394e0\", \"type\": \"vtkLookupTable\", \"properties\": {}}]}, {\"parent\": \"0000000005c91610\", \"id\": \"0000000005dd0810\", \"type\": \"vtkOpenGLProperty\", \"properties\": {}}]}, {\"parent\": \"00000000064adbc0\", \"id\": \"0000000005dd1cb0\", \"type\": \"vtkScalarBarActor\", \"properties\": {}, \"calls\": [[\"setScalarsToColors\", [\"instance:${00000000064394e0}\"]]], \"dependencies\": [{\"parent\": \"0000000005dd1cb0\", \"id\": \"00000000064394e0\", \"type\": \"vtkLookupTable\", \"properties\": {}}]}, {\"parent\": \"00000000064adbc0\", \"id\": \"0000000005e3d450\", \"type\": \"vtkOpenGLLight\", \"properties\": {\"position\": [0.05000000074505806, 0.05000000074505806, 0.27320508482796074], \"focalPoint\": [0.05000000074505806, 0.05000000074505806, 0.0]}}, {\"parent\": \"00000000064adbc0\", \"id\": \"0000000005da5160\", \"type\": \"vtkOpenGLLight\", \"properties\": {}}, {\"parent\": \"00000000064adbc0\", \"id\": \"0000000005ea4a20\", \"type\": \"vtkOpenGLLight\", \"properties\": {}}, {\"parent\": \"00000000064adbc0\", \"id\": \"0000000005cf37d0\", \"type\": \"vtkOpenGLLight\", \"properties\": {}}, {\"parent\": \"00000000064adbc0\", \"id\": \"0000000005cf3d60\", \"type\": \"vtkOpenGLLight\", \"properties\": {}}], \"calls\": [[\"setActiveCamera\", [\"instance:${00000000059b8840}\"]]]}], \"calls\": [], \"mtime\": 75214, \"extra\": {\"vtkRefId\": \"0000000004d822a0\", \"centerOfRotation\": [0.05000000074505806, 0.05000000074505806, 0.0], \"camera\": \"00000000059b8840\"}}}\n",
      " JS Error => Malformed message:  \n"
     ]
    }
   ],
   "source": [
    "plotter = pv.Plotter()\n",
    "plotter.add_mesh(slice_internal_mesh, scalars=\"p\")\n",
    "plotter.view_xy()\n",
    "plotter.enable_parallel_projection()\n",
    "plotter.show()"
   ]
  },
  {
   "cell_type": "code",
   "execution_count": null,
   "metadata": {},
   "outputs": [],
   "source": []
  }
 ],
 "metadata": {
  "kernelspec": {
   "display_name": "wenv",
   "language": "python",
   "name": "python3"
  },
  "language_info": {
   "codemirror_mode": {
    "name": "ipython",
    "version": 3
   },
   "file_extension": ".py",
   "mimetype": "text/x-python",
   "name": "python",
   "nbconvert_exporter": "python",
   "pygments_lexer": "ipython3",
   "version": "3.11.7"
  }
 },
 "nbformat": 4,
 "nbformat_minor": 2
}
