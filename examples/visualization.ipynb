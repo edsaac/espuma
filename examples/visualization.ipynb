{
 "cells": [
  {
   "cell_type": "code",
   "execution_count": 1,
   "metadata": {},
   "outputs": [],
   "source": [
    "from espuma import Case_Directory\n",
    "import pyvista as pv"
   ]
  },
  {
   "cell_type": "code",
   "execution_count": 2,
   "metadata": {},
   "outputs": [
    {
     "data": {
      "text/html": [
       "<details open>\n",
       "<summary><b>example_my_cavity</b></summary>\n",
       "<ul style='list-style: none;'>\n",
       "<li><details open>\n",
       "<summary><b>0</b></summary>\n",
       "<ul><li>U</li>\n",
       "\n",
       "<li>p</li>\n",
       "\n",
       "</ul>\n",
       "</details>\n",
       "</li>\n",
       "<li><details open>\n",
       "<summary><b>constant</b></summary>\n",
       "<ul><li>transportProperties</li>\n",
       "\n",
       "</ul>\n",
       "</details>\n",
       "</li>\n",
       "<li><details open>\n",
       "<summary><b>system</b></summary>\n",
       "<ul><li>controlDict</li>\n",
       "\n",
       "<li>fvSolution</li>\n",
       "\n",
       "<li>blockMeshDict</li>\n",
       "\n",
       "<li>fvSchemes</li>\n",
       "\n",
       "</ul>\n",
       "</details>\n",
       "</li>\n",
       "</ul>\n",
       "</details>\n"
      ],
      "text/plain": [
       "Case_Directory(/home/edsaa/Repositories/foamy/examples/example_my_cavity)"
      ]
     },
     "execution_count": 2,
     "metadata": {},
     "output_type": "execute_result"
    }
   ],
   "source": [
    "of_case = Case_Directory(\"./example_my_cavity\")\n",
    "of_case"
   ]
  },
  {
   "cell_type": "code",
   "execution_count": 3,
   "metadata": {},
   "outputs": [],
   "source": [
    "reader = of_case.get_vtk_reader()"
   ]
  },
  {
   "cell_type": "code",
   "execution_count": 4,
   "metadata": {},
   "outputs": [
    {
     "name": "stdout",
     "output_type": "stream",
     "text": [
      "Available Time Values: [0.0, 0.1, 0.2, 0.3, 0.4, 0.5]\n",
      "Available Time Values: [0.0, 0.1, 0.2, 0.3, 0.4, 0.5]\n"
     ]
    }
   ],
   "source": [
    "# Using pyvista\n",
    "print(f\"Available Time Values: {reader.time_values}\")\n",
    "\n",
    "# Using espuma\n",
    "print(f\"Available Time Values: {of_case.list_times}\")"
   ]
  },
  {
   "cell_type": "code",
   "execution_count": 5,
   "metadata": {},
   "outputs": [],
   "source": [
    "reader.set_active_time_value(0.5)\n",
    "reader.cell_to_point_creation = True"
   ]
  },
  {
   "cell_type": "code",
   "execution_count": 6,
   "metadata": {},
   "outputs": [
    {
     "data": {
      "text/html": [
       "<table style='width: 100%;'><tr><th>Information</th><th>Blocks</th></tr><tr><td>\n",
       "<table>\n",
       "<tr><th>MultiBlock</th><th>Values</th></tr>\n",
       "<tr><td>N Blocks</td><td>2</td></tr>\n",
       "<tr><td>X Bounds</td><td>0.000, 0.100</td></tr>\n",
       "<tr><td>Y Bounds</td><td>0.000, 0.100</td></tr>\n",
       "<tr><td>Z Bounds</td><td>0.000, 0.010</td></tr>\n",
       "</table>\n",
       "\n",
       "</td><td>\n",
       "<table>\n",
       "<tr><th>Index</th><th>Name</th><th>Type</th></tr>\n",
       "<tr><th>0</th><th>internalMesh</th><th>UnstructuredGrid</th></tr>\n",
       "<tr><th>1</th><th>boundary</th><th>MultiBlock</th></tr>\n",
       "</table>\n",
       "\n",
       "</td></tr> </table>"
      ],
      "text/plain": [
       "MultiBlock (0x7ff3e9571b40)\n",
       "  N Blocks    2\n",
       "  X Bounds    0.000, 0.100\n",
       "  Y Bounds    0.000, 0.100\n",
       "  Z Bounds    0.000, 0.010"
      ]
     },
     "execution_count": 6,
     "metadata": {},
     "output_type": "execute_result"
    }
   ],
   "source": [
    "mesh = reader.read()\n",
    "mesh"
   ]
  },
  {
   "cell_type": "code",
   "execution_count": 7,
   "metadata": {},
   "outputs": [],
   "source": [
    "internal_mesh = mesh[\"internalMesh\"]\n",
    "boundaries = mesh[\"boundary\"]"
   ]
  },
  {
   "cell_type": "code",
   "execution_count": 8,
   "metadata": {},
   "outputs": [
    {
     "data": {
      "text/html": [
       "<table style='width: 100%;'><tr><th>Header</th><th>Data Arrays</th></tr><tr><td>\n",
       "<table style='width: 100%;'>\n",
       "<tr><th>UnstructuredGrid</th><th>Information</th></tr>\n",
       "<tr><td>N Cells</td><td>400</td></tr>\n",
       "<tr><td>N Points</td><td>882</td></tr>\n",
       "<tr><td>X Bounds</td><td>0.000e+00, 1.000e-01</td></tr>\n",
       "<tr><td>Y Bounds</td><td>0.000e+00, 1.000e-01</td></tr>\n",
       "<tr><td>Z Bounds</td><td>0.000e+00, 1.000e-02</td></tr>\n",
       "<tr><td>N Arrays</td><td>4</td></tr>\n",
       "</table>\n",
       "\n",
       "</td><td>\n",
       "<table style='width: 100%;'>\n",
       "<tr><th>Name</th><th>Field</th><th>Type</th><th>N Comp</th><th>Min</th><th>Max</th></tr>\n",
       "<tr><td>U</td><td>Points</td><td>float32</td><td>3</td><td>-3.511e-01</td><td>1.000e+00</td></tr>\n",
       "<tr><td><b>p</b></td><td>Points</td><td>float32</td><td>1</td><td>-4.367e+00</td><td>4.849e+00</td></tr>\n",
       "<tr><td>U</td><td>Cells</td><td>float32</td><td>3</td><td>-3.686e-01</td><td>8.527e-01</td></tr>\n",
       "<tr><td><b>p</b></td><td>Cells</td><td>float32</td><td>1</td><td>-4.367e+00</td><td>4.849e+00</td></tr>\n",
       "</table>\n",
       "\n",
       "</td></tr> </table>"
      ],
      "text/plain": [
       "UnstructuredGrid (0x7ff3e95719c0)\n",
       "  N Cells:    400\n",
       "  N Points:   882\n",
       "  X Bounds:   0.000e+00, 1.000e-01\n",
       "  Y Bounds:   0.000e+00, 1.000e-01\n",
       "  Z Bounds:   0.000e+00, 1.000e-02\n",
       "  N Arrays:   4"
      ]
     },
     "execution_count": 8,
     "metadata": {},
     "output_type": "execute_result"
    }
   ],
   "source": [
    "internal_mesh"
   ]
  },
  {
   "cell_type": "code",
   "execution_count": 9,
   "metadata": {},
   "outputs": [
    {
     "data": {
      "text/html": [
       "<table style='width: 100%;'><tr><th>Information</th><th>Blocks</th></tr><tr><td>\n",
       "<table>\n",
       "<tr><th>MultiBlock</th><th>Values</th></tr>\n",
       "<tr><td>N Blocks</td><td>3</td></tr>\n",
       "<tr><td>X Bounds</td><td>0.000, 0.100</td></tr>\n",
       "<tr><td>Y Bounds</td><td>0.000, 0.100</td></tr>\n",
       "<tr><td>Z Bounds</td><td>0.000, 0.010</td></tr>\n",
       "</table>\n",
       "\n",
       "</td><td>\n",
       "<table>\n",
       "<tr><th>Index</th><th>Name</th><th>Type</th></tr>\n",
       "<tr><th>0</th><th>movingWall</th><th>PolyData</th></tr>\n",
       "<tr><th>1</th><th>fixedWalls</th><th>PolyData</th></tr>\n",
       "<tr><th>2</th><th>frontAndBack</th><th>PolyData</th></tr>\n",
       "</table>\n",
       "\n",
       "</td></tr> </table>"
      ],
      "text/plain": [
       "MultiBlock (0x7ff3e9571c00)\n",
       "  N Blocks    3\n",
       "  X Bounds    0.000, 0.100\n",
       "  Y Bounds    0.000, 0.100\n",
       "  Z Bounds    0.000, 0.010"
      ]
     },
     "execution_count": 9,
     "metadata": {},
     "output_type": "execute_result"
    }
   ],
   "source": [
    "boundaries"
   ]
  },
  {
   "cell_type": "code",
   "execution_count": 10,
   "metadata": {},
   "outputs": [],
   "source": [
    "def slice_z_center(mesh):\n",
    "    \"\"\"Slice mesh through center in z normal direction, move to z=0.\"\"\"\n",
    "    slice_mesh = mesh.slice(normal='z')\n",
    "    slice_mesh.translate((0, 0, -slice_mesh.center[-1]), inplace=True)\n",
    "    return slice_mesh\n",
    "\n",
    "def plot_sliced_pressure(mesh):\n",
    "    plotting_options = dict(\n",
    "        scalars=\"p\", \n",
    "        cmap='bwr', \n",
    "        ambient=0.8,\n",
    "        show_edges=False\n",
    "    ) \n",
    "\n",
    "    internal_mesh = mesh[\"internalMesh\"]\n",
    "    boundaries = mesh[\"boundary\"]\n",
    "\n",
    "    slice_internal_mesh = slice_z_center(internal_mesh)\n",
    "    # slice_boundaries = pv.MultiBlock(\n",
    "    #     {key: slice_z_center(boundaries[key]) for key in boundaries.keys()}\n",
    "    # )\n",
    "\n",
    "    plotter = pv.Plotter()\n",
    "    plotter.add_mesh(slice_internal_mesh,**plotting_options)\n",
    "    plotter.view_xy()\n",
    "    plotter.enable_parallel_projection()\n",
    "    plotter.show_bounds(use_3d_text=False)\n",
    "    plotter.show()"
   ]
  },
  {
   "cell_type": "code",
   "execution_count": 11,
   "metadata": {},
   "outputs": [
    {
     "data": {
      "application/vnd.jupyter.widget-view+json": {
       "model_id": "5ea7963088854730b7f2dab6b3597fd9",
       "version_major": 2,
       "version_minor": 0
      },
      "text/plain": [
       "Widget(value='<iframe src=\"http://localhost:45117/index.html?ui=P_0x7ff43e6956d0_0&reconnect=auto\" class=\"pyvi…"
      ]
     },
     "metadata": {},
     "output_type": "display_data"
    }
   ],
   "source": [
    "plot_sliced_pressure(mesh)"
   ]
  },
  {
   "cell_type": "code",
   "execution_count": 12,
   "metadata": {},
   "outputs": [],
   "source": [
    "of_denser = Case_Directory.clone_from_template(\n",
    "    of_case,\n",
    "    \"example_denser\",\n",
    "    overwrite=True\n",
    ")"
   ]
  },
  {
   "cell_type": "code",
   "execution_count": 13,
   "metadata": {},
   "outputs": [
    {
     "data": {
      "text/plain": [
       "'[ 0 2 -1 0 0 0 0 ] 0.01'"
      ]
     },
     "execution_count": 13,
     "metadata": {},
     "output_type": "execute_result"
    }
   ],
   "source": [
    "of_case.constant.transportProperties[\"nu\"]"
   ]
  },
  {
   "cell_type": "code",
   "execution_count": 14,
   "metadata": {},
   "outputs": [],
   "source": [
    "of_denser.constant.transportProperties[\"nu\"] = '[ 0 2 -1 0 0 0 0 ] 0.1'"
   ]
  },
  {
   "cell_type": "code",
   "execution_count": 15,
   "metadata": {},
   "outputs": [
    {
     "data": {
      "text/html": [
       "<details open>\n",
       "<summary><b>transportProperties</b></summary>\n",
       "<ul style='list-style: none;'>\n",
       "<li><b>FoamFile</b>: <ul>\n",
       "<li><b>version:</b> 2</li>\n",
       "<li><b>format:</b> ascii</li>\n",
       "<li><b>class:</b> dictionary</li>\n",
       "<li><b>location:</b> \"constant\"</li>\n",
       "<li><b>object:</b> transportProperties</li>\n",
       "</ul></li>\n",
       "<li><b>nu</b>: '[ 0 2 -1 0 0 0 0 ] 0.1'</li>\n",
       "</ul>\n",
       "</details>\n"
      ],
      "text/plain": [
       "Dict_File(/home/edsaa/Repositories/foamy/examples/example_denser/constant/transportProperties)"
      ]
     },
     "execution_count": 15,
     "metadata": {},
     "output_type": "execute_result"
    }
   ],
   "source": [
    "of_denser.constant.transportProperties"
   ]
  },
  {
   "cell_type": "code",
   "execution_count": 16,
   "metadata": {},
   "outputs": [
    {
     "name": "stdout",
     "output_type": "stream",
     "text": [
      "blockMesh finished successfully!\n",
      "icoFoam finished successfully!\n"
     ]
    }
   ],
   "source": [
    "of_denser._blockMesh()\n",
    "of_denser._runCase()"
   ]
  },
  {
   "cell_type": "code",
   "execution_count": 17,
   "metadata": {},
   "outputs": [],
   "source": [
    "reader = of_denser.get_vtk_reader()\n",
    "reader.set_active_time_value(0.5)\n",
    "reader.cell_to_point_creation = True\n",
    "mesh = reader.read()"
   ]
  },
  {
   "cell_type": "code",
   "execution_count": 18,
   "metadata": {},
   "outputs": [
    {
     "data": {
      "application/vnd.jupyter.widget-view+json": {
       "model_id": "f486ef16588a4873abdfab157fa03ee7",
       "version_major": 2,
       "version_minor": 0
      },
      "text/plain": [
       "Widget(value='<iframe src=\"http://localhost:45117/index.html?ui=P_0x7ff3e3f6a9d0_1&reconnect=auto\" class=\"pyvi…"
      ]
     },
     "metadata": {},
     "output_type": "display_data"
    }
   ],
   "source": [
    "plot_sliced_pressure(mesh)"
   ]
  },
  {
   "cell_type": "code",
   "execution_count": null,
   "metadata": {},
   "outputs": [],
   "source": []
  }
 ],
 "metadata": {
  "kernelspec": {
   "display_name": "wenv",
   "language": "python",
   "name": "python3"
  },
  "language_info": {
   "codemirror_mode": {
    "name": "ipython",
    "version": 3
   },
   "file_extension": ".py",
   "mimetype": "text/x-python",
   "name": "python",
   "nbconvert_exporter": "python",
   "pygments_lexer": "ipython3",
   "version": "3.11.7"
  }
 },
 "nbformat": 4,
 "nbformat_minor": 2
}
